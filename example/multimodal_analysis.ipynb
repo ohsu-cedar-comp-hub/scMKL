{
 "cells": [
  {
   "cell_type": "markdown",
   "metadata": {},
   "source": [
    "## Using scMKL with single-cell RNA and ATAC Data\n",
    "To run tutorials, install `plotnine` and `jupyter` into you scMKL env with `pip install plotnine jupyter`.\n",
    "\n",
    "Here, we will run scMKL on a subset of the MCF-7 data (1,000 cells x 36,601 genes for RNA and 1,000 cells x 206,167 peaks for ATAC) using Hallmark groupings."
   ]
  },
  {
   "cell_type": "markdown",
   "metadata": {},
   "source": [
    "### Importing Modules\n",
    "Data is read-in and saved using Numpy and SciPy modules."
   ]
  },
  {
   "cell_type": "code",
   "execution_count": 1,
   "metadata": {},
   "outputs": [],
   "source": [
    "import scmkl\n",
    "\n",
    "# Packages needed to import data\n",
    "import numpy as np\n",
    "from scipy.sparse import load_npz"
   ]
  },
  {
   "cell_type": "markdown",
   "metadata": {},
   "source": [
    "### Reading in Data\n",
    "There are four pieces of data (per modality) required for scMKL:\n",
    "- The data matrix itself with cells as rows and features as columns.\n",
    "    - Can be either a Numpy array or SciPy sparse array (scipy.sparse.csc_array is the recommended format).  \n",
    "- The sample labels in a Numpy array. To perform group lasso, these labels must be binary.\n",
    "- Feature names in a Numpy array. These are the names of the features corresponding with the data matrix columns.\n",
    "- A dictionary with grouping data.  The keys are the names of the groups, and the values are the corresponding features.\n",
    "    - Example: {Group1: [feature1, feature2, feature3], Group2: [feature4, feature5, feature6], ...}.\n",
    "    - See `getting_ATAC_groupings.ipynb` and `getting_ATAC_groupings.ipynb` for more information on creating `group_dict`."
   ]
  },
  {
   "cell_type": "code",
   "execution_count": 2,
   "metadata": {},
   "outputs": [],
   "source": [
    "# Reading in RNA data\n",
    "rna_group_dict = np.load('./data/_RNA_hallmark_groupings.pkl', allow_pickle = True)\n",
    "rna_X = load_npz('./data/_MCF7_RNA_X.npz')\n",
    "rna_feature_names = np.load('./data/_MCF7_RNA_feature_names.npy', allow_pickle = True)\n",
    "\n",
    "# Reading in ATAC data\n",
    "atac_group_dict = np.load('./data/_ATAC_hallmark_groupings.pkl', allow_pickle = True)\n",
    "atac_X = load_npz('./data/_MCF7_ATAC_X.npz')\n",
    "atac_feature_names = np.load('./data/_MCF7_ATAC_feature_names.npy', allow_pickle = True)\n",
    "\n",
    "# Reading in cell labels\n",
    "cell_labels = np.load('./data/_MCF7_cell_labels.npy', allow_pickle = True)\n",
    "\n",
    "# This value for D, the number of fourier features in Z, was found to be optimal in previous literature. \n",
    "# Generally increasing D increases accuracy and run time.\n",
    "D = scmkl.calculate_d(len(cell_labels))"
   ]
  },
  {
   "cell_type": "markdown",
   "metadata": {},
   "source": [
    "### Creating an AnnData Object\n",
    "scMKL takes advantage of AnnData's flexible structure to create a straight-forward approach to running scMKL. Using `scmkl.create_adata()` will create an AnnData object from input data that will include necessary variables for running scMKL. For more information, see scMKL's [documentation](https://ohsu-cedar-comp-hub.github.io/scMKL/)."
   ]
  },
  {
   "cell_type": "code",
   "execution_count": 3,
   "metadata": {},
   "outputs": [
    {
     "name": "stdout",
     "output_type": "stream",
     "text": [
      "WARNING: Data will not be log transformed and scaled To change this behavior, set scale_data to True\n"
     ]
    }
   ],
   "source": [
    "# Creating RNA adata\n",
    "rna_adata = scmkl.create_adata(X = rna_X, feature_names = rna_feature_names, cell_labels = cell_labels, group_dict = rna_group_dict,\n",
    "                         scale_data = True, D = D, remove_features = True, random_state = 100)\n",
    "\n",
    "# Creating ATAC adata\n",
    "atac_adata = scmkl.create_adata(X = atac_X, feature_names = atac_feature_names, cell_labels = cell_labels, group_dict = atac_group_dict,\n",
    "                         scale_data = False, D = D, remove_features = True, random_state = 100)"
   ]
  },
  {
   "cell_type": "code",
   "execution_count": 4,
   "metadata": {},
   "outputs": [
    {
     "ename": "AssertionError",
     "evalue": "Batch size much be smaller than the training set.",
     "output_type": "error",
     "traceback": [
      "\u001b[31m---------------------------------------------------------------------------\u001b[39m",
      "\u001b[31mAssertionError\u001b[39m                            Traceback (most recent call last)",
      "\u001b[36mCell\u001b[39m\u001b[36m \u001b[39m\u001b[32mIn[4]\u001b[39m\u001b[32m, line 1\u001b[39m\n\u001b[32m----> \u001b[39m\u001b[32m1\u001b[39m rna_adata = \u001b[43mscmkl\u001b[49m\u001b[43m.\u001b[49m\u001b[43mestimate_sigma\u001b[49m\u001b[43m(\u001b[49m\u001b[43mrna_adata\u001b[49m\u001b[43m,\u001b[49m\u001b[43m \u001b[49m\u001b[43mn_features\u001b[49m\u001b[43m \u001b[49m\u001b[43m=\u001b[49m\u001b[43m \u001b[49m\u001b[32;43m200\u001b[39;49m\u001b[43m,\u001b[49m\u001b[43m \u001b[49m\u001b[43mbatch_size\u001b[49m\u001b[43m=\u001b[49m\u001b[43m \u001b[49m\u001b[32;43m800\u001b[39;49m\u001b[43m,\u001b[49m\u001b[43m \u001b[49m\u001b[43mbatches\u001b[49m\u001b[43m \u001b[49m\u001b[43m=\u001b[49m\u001b[43m \u001b[49m\u001b[32;43m10\u001b[39;49m\u001b[43m)\u001b[49m\n",
      "\u001b[36mFile \u001b[39m\u001b[32m~/miniconda3/envs/scMKL/lib/python3.12/site-packages/scmkl/estimate_sigma.py:197\u001b[39m, in \u001b[36mestimate_sigma\u001b[39m\u001b[34m(adata, n_features, batches, batch_size)\u001b[39m\n\u001b[32m    159\u001b[39m \u001b[38;5;250m\u001b[39m\u001b[33;03m'''\u001b[39;00m\n\u001b[32m    160\u001b[39m \u001b[33;03mCalculate kernel widths to inform distribution for projection of \u001b[39;00m\n\u001b[32m    161\u001b[39m \u001b[33;03mFourier Features. Calculates one sigma per group of features.\u001b[39;00m\n\u001b[32m   (...)\u001b[39m\u001b[32m    193\u001b[39m \u001b[33;03marray([10.4640895 , 10.82011454,  6.16769438,  9.86156855, ...])\u001b[39;00m\n\u001b[32m    194\u001b[39m \u001b[33;03m'''\u001b[39;00m\n\u001b[32m    195\u001b[39m sigma_list = []\n\u001b[32m--> \u001b[39m\u001b[32m197\u001b[39m \u001b[38;5;28;01massert\u001b[39;00m batch_size < \u001b[38;5;28mlen\u001b[39m(adata.uns[\u001b[33m'\u001b[39m\u001b[33mtrain_indices\u001b[39m\u001b[33m'\u001b[39m]), (\u001b[33m\"\u001b[39m\u001b[33mBatch size much be \u001b[39m\u001b[33m\"\u001b[39m\n\u001b[32m    198\u001b[39m                                                       \u001b[33m\"\u001b[39m\u001b[33msmaller than the \u001b[39m\u001b[33m\"\u001b[39m\n\u001b[32m    199\u001b[39m                                                       \u001b[33m\"\u001b[39m\u001b[33mtraining set.\u001b[39m\u001b[33m\"\u001b[39m)\n\u001b[32m    201\u001b[39m \u001b[38;5;28;01mif\u001b[39;00m batch_size > \u001b[32m2000\u001b[39m:\n\u001b[32m    202\u001b[39m     \u001b[38;5;28mprint\u001b[39m(\u001b[33m\"\u001b[39m\u001b[33mWarning: Batch sizes over 2000 may \u001b[39m\u001b[33m\"\u001b[39m\n\u001b[32m    203\u001b[39m            \u001b[33m\"\u001b[39m\u001b[33mresult in long run-time.\u001b[39m\u001b[33m\"\u001b[39m)\n",
      "\u001b[31mAssertionError\u001b[39m: Batch size much be smaller than the training set."
     ]
    }
   ],
   "source": [
    "rna_adata = scmkl.estimate_sigma(rna_adata, n_features = 200, batch_size= 800, batches = 10)"
   ]
  },
  {
   "cell_type": "markdown",
   "metadata": {},
   "source": [
    "### Optimizing Sparsity\n",
    "Sparsity (lambda) or alpha here, is the regularization coefficient that controls the pentalty to run with the model. \n",
    "\n",
    "This will ultimately decide how many groups will be used in the final model.\n",
    "\n",
    "`scmkl.optimize_alpha()` returns a single sparsity value as the optimal sparsity argument for training the model."
   ]
  },
  {
   "cell_type": "code",
   "execution_count": null,
   "metadata": {},
   "outputs": [],
   "source": [
    "# Setting a list of alpha values to train the model with\n",
    "alpha_list = np.round(np.linspace(2.2,0.05,10), 2)\n",
    "\n",
    "# Calculating the best performing alpha from cross validation on training data\n",
    "alpha_star = scmkl.optimize_alpha(adata = [rna_adata, atac_adata],\n",
    "                                              group_size = (2 * D), \n",
    "                                              tfidf = [False, False], \n",
    "                                              alpha_array = alpha_list, \n",
    "                                              k = 4)"
   ]
  },
  {
   "cell_type": "markdown",
   "metadata": {},
   "source": [
    "### Estimating Kernel Widths, Calculating Z, and Combining Modalities\n",
    "To estimate kernel widths, calculate Z matrices, and combine the `AnnData` objects for each modality, we use the `multimodal_processing()` function."
   ]
  },
  {
   "cell_type": "code",
   "execution_count": null,
   "metadata": {},
   "outputs": [],
   "source": [
    "combined_adata = scmkl.multimodal_processing(adatas = [rna_adata, atac_adata],\n",
    "                                             names  = ['RNA', 'ATAC'],\n",
    "                                             tfidf = [False, False])"
   ]
  },
  {
   "cell_type": "markdown",
   "metadata": {},
   "source": [
    "### Training and Evalutating Model\n",
    "Here we will train and evaluate 10 models, each with a different `alpha`.\n",
    "\n",
    "`alpha` (or lambda) is a regularization coefficient that deterimines how many groupings will be used to classify the test cells in the final model. Here, we will evalutate the model using a range of alphas (`alpha_list`) to get a range of selected groups."
   ]
  },
  {
   "cell_type": "code",
   "execution_count": null,
   "metadata": {},
   "outputs": [],
   "source": [
    "results = scmkl.run(combined_adata, alpha_list = alpha_list)\n",
    "results.keys()"
   ]
  },
  {
   "cell_type": "markdown",
   "metadata": {},
   "source": [
    "### Model Performance and Top Groups per Alpha"
   ]
  },
  {
   "cell_type": "code",
   "execution_count": null,
   "metadata": {},
   "outputs": [],
   "source": [
    "summary_df = scmkl.get_summary(results)\n",
    "summary_df"
   ]
  },
  {
   "cell_type": "code",
   "execution_count": null,
   "metadata": {},
   "outputs": [],
   "source": [
    "metric_plot = scmkl.plot_metric(summary_df, color = 'purple', alpha_star = alpha_star)\n",
    "metric_plot.show()"
   ]
  },
  {
   "cell_type": "code",
   "execution_count": null,
   "metadata": {},
   "outputs": [],
   "source": [
    "from matplotlib.pyplot import get_cmap\n",
    "\n",
    "scmkl.plot_conf_mat(results, title = '', cmap = get_cmap('Purples'))"
   ]
  }
 ],
 "metadata": {
  "kernelspec": {
   "display_name": "scMKL tutorial env",
   "language": "python",
   "name": "scmkl"
  },
  "language_info": {
   "codemirror_mode": {
    "name": "ipython",
    "version": 3
   },
   "file_extension": ".py",
   "mimetype": "text/x-python",
   "name": "python",
   "nbconvert_exporter": "python",
   "pygments_lexer": "ipython3",
   "version": "3.12.11"
  }
 },
 "nbformat": 4,
 "nbformat_minor": 4
}
