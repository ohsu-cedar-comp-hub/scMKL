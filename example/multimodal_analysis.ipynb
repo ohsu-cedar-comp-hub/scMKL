{
 "cells": [
  {
   "cell_type": "markdown",
   "metadata": {},
   "source": [
    "## Using scMKL with single-cell RNA and ATAC Data\n",
    "To run tutorials, install `plotnine` and `jupyter` into you scMKL env with `pip install plotnine jupyter`.\n",
    "\n",
    "Here, we will run scMKL on a subset of the MCF-7 data (1,000 cells x 36,601 genes for RNA and 1,000 cells x 206,167 peaks for ATAC) using Hallmark groupings."
   ]
  },
  {
   "cell_type": "markdown",
   "metadata": {},
   "source": [
    "### Importing Modules\n",
    "Data is read-in and saved using Numpy and SciPy modules."
   ]
  },
  {
   "cell_type": "code",
   "execution_count": 1,
   "metadata": {},
   "outputs": [],
   "source": [
    "import scmkl\n",
    "\n",
    "# Packages needed to import data\n",
    "import numpy as np\n",
    "from scipy.sparse import load_npz"
   ]
  },
  {
   "cell_type": "markdown",
   "metadata": {},
   "source": [
    "### Reading in Data\n",
    "There are four pieces of data (per modality) required for scMKL:\n",
    "- The data matrix itself with cells as rows and features as columns.\n",
    "    - Can be either a Numpy array or SciPy sparse array (scipy.sparse.csc_array is the recommended format).  \n",
    "- The sample labels in a Numpy array. To perform group lasso, these labels must be binary.\n",
    "- Feature names in a Numpy array. These are the names of the features corresponding with the data matrix columns.\n",
    "- A dictionary with grouping data.  The keys are the names of the groups, and the values are the corresponding features.\n",
    "    - Example: {Group1: [feature1, feature2, feature3], Group2: [feature4, feature5, feature6], ...}.\n",
    "    - See `getting_ATAC_groupings.ipynb` and `getting_ATAC_groupings.ipynb` for more information on creating `group_dict`."
   ]
  },
  {
   "cell_type": "code",
   "execution_count": 2,
   "metadata": {},
   "outputs": [],
   "source": [
    "# Reading in RNA data\n",
    "rna_group_dict = np.load('./data/_RNA_hallmark_groupings.pkl', allow_pickle = True)\n",
    "rna_X = load_npz('./data/_MCF7_RNA_X.npz')\n",
    "rna_feature_names = np.load('./data/_MCF7_RNA_feature_names.npy', allow_pickle = True)\n",
    "\n",
    "# Reading in ATAC data\n",
    "atac_group_dict = np.load('./data/_ATAC_hallmark_groupings.pkl', allow_pickle = True)\n",
    "atac_X = load_npz('./data/_MCF7_ATAC_X.npz')\n",
    "atac_feature_names = np.load('./data/_MCF7_ATAC_feature_names.npy', allow_pickle = True)\n",
    "\n",
    "# Reading in cell labels\n",
    "cell_labels = np.load('./data/_MCF7_cell_labels.npy', allow_pickle = True)\n",
    "\n",
    "# This value for D, the number of fourier features in Z, was found to be optimal in previous literature. \n",
    "# Generally increasing D increases accuracy and run time.\n",
    "D = scmkl.calculate_d(len(cell_labels))"
   ]
  },
  {
   "cell_type": "markdown",
   "metadata": {},
   "source": [
    "### Creating an AnnData Object\n",
    "scMKL takes advantage of AnnData's flexible structure to create a straight-forward approach to running scMKL. Using `scmkl.create_adata()` will create an AnnData object from input data that will include necessary variables for running scMKL. For more information, see scMKL's [documentation](https://ohsu-cedar-comp-hub.github.io/scMKL/)."
   ]
  },
  {
   "cell_type": "code",
   "execution_count": 3,
   "metadata": {},
   "outputs": [
    {
     "name": "stdout",
     "output_type": "stream",
     "text": [
      "WARNING: Data will not be log transformed and scaled. To change this behavior, set scale_data to True\n"
     ]
    }
   ],
   "source": [
    "# Creating RNA adata\n",
    "rna_adata = scmkl.create_adata(X = rna_X, feature_names = rna_feature_names, cell_labels = cell_labels, group_dict = rna_group_dict,\n",
    "                         scale_data = True, D = D, remove_features = True, random_state = 100)\n",
    "\n",
    "# Creating ATAC adata\n",
    "atac_adata = scmkl.create_adata(X = atac_X, feature_names = atac_feature_names, cell_labels = cell_labels, group_dict = atac_group_dict,\n",
    "                         scale_data = False, D = D, remove_features = True, random_state = 100)"
   ]
  },
  {
   "cell_type": "code",
   "execution_count": 4,
   "metadata": {},
   "outputs": [
    {
     "name": "stdout",
     "output_type": "stream",
     "text": [
      "Specified batch size required too many cells for independent batches. Reduced batch size from 800 to 80\n"
     ]
    }
   ],
   "source": [
    "rna_adata = scmkl.estimate_sigma(rna_adata, n_features = 200, batch_size= 800, batches = 10)"
   ]
  },
  {
   "cell_type": "markdown",
   "metadata": {},
   "source": [
    "### Optimizing Sparsity\n",
    "Sparsity (lambda) or alpha here, is the regularization coefficient that controls the pentalty to run with the model. \n",
    "\n",
    "This will ultimately decide how many groups will be used in the final model.\n",
    "\n",
    "`scmkl.optimize_alpha()` returns a single sparsity value as the optimal sparsity argument for training the model."
   ]
  },
  {
   "cell_type": "code",
   "execution_count": 5,
   "metadata": {},
   "outputs": [
    {
     "name": "stdout",
     "output_type": "stream",
     "text": [
      "Fold 1:\n",
      " Memory Usage: [0.0, 0.0] GB\n",
      "Estimating sigma and calculating Z for adata 0\n",
      "Estimating sigma and calculating Z for adata 1\n",
      "Fold 2:\n",
      " Memory Usage: [0.0, 0.0] GB\n",
      "Estimating sigma and calculating Z for adata 0\n",
      "Estimating sigma and calculating Z for adata 1\n",
      "Fold 3:\n",
      " Memory Usage: [0.0, 0.0] GB\n",
      "Estimating sigma and calculating Z for adata 0\n",
      "Estimating sigma and calculating Z for adata 1\n",
      "Fold 4:\n",
      " Memory Usage: [0.0, 0.0] GB\n",
      "Estimating sigma and calculating Z for adata 0\n",
      "Estimating sigma and calculating Z for adata 1\n"
     ]
    }
   ],
   "source": [
    "# Setting a list of alpha values to train the model with\n",
    "alpha_list = np.round(np.linspace(2.2,0.05,10), 2)\n",
    "\n",
    "# Calculating the best performing alpha from cross validation on training data\n",
    "alpha_star = scmkl.optimize_alpha(adata = [rna_adata, atac_adata],\n",
    "                                              group_size = (2 * D), \n",
    "                                              tfidf = [False, False], \n",
    "                                              alpha_array = alpha_list, \n",
    "                                              k = 4,\n",
    "                                              batch_size = 60,\n",
    "                                              batches = 10)"
   ]
  },
  {
   "cell_type": "markdown",
   "metadata": {},
   "source": [
    "### Estimating Kernel Widths, Calculating Z, and Combining Modalities\n",
    "To estimate kernel widths, calculate Z matrices, and combine the `AnnData` objects for each modality, we use the `multimodal_processing()` function."
   ]
  },
  {
   "cell_type": "code",
   "execution_count": 6,
   "metadata": {},
   "outputs": [
    {
     "name": "stdout",
     "output_type": "stream",
     "text": [
      "Estimating sigma and calculating Z for RNA\n",
      "Specified batch size required too many cells for independent batches. Reduced batch size from 100 to 80\n",
      "Estimating sigma and calculating Z for ATAC\n",
      "Specified batch size required too many cells for independent batches. Reduced batch size from 100 to 80\n"
     ]
    }
   ],
   "source": [
    "combined_adata = scmkl.multimodal_processing(adatas = [rna_adata, atac_adata],\n",
    "                                             names  = ['RNA', 'ATAC'],\n",
    "                                             tfidf = [False, False])"
   ]
  },
  {
   "cell_type": "markdown",
   "metadata": {},
   "source": [
    "### Training and Evalutating Model\n",
    "Here we will train and evaluate 10 models, each with a different `alpha`.\n",
    "\n",
    "`alpha` (or lambda) is a regularization coefficient that deterimines how many groupings will be used to classify the test cells in the final model. Here, we will evalutate the model using a range of alphas (`alpha_list`) to get a range of selected groups."
   ]
  },
  {
   "cell_type": "code",
   "execution_count": null,
   "metadata": {},
   "outputs": [
    {
     "name": "stdout",
     "output_type": "stream",
     "text": [
      "  Evaluating model. Alpha: 2.2\n"
     ]
    }
   ],
   "source": [
    "results = scmkl.run(combined_adata, alpha_list = alpha_list)\n",
    "results.keys()"
   ]
  },
  {
   "cell_type": "markdown",
   "metadata": {},
   "source": [
    "### Model Performance and Top Groups per Alpha"
   ]
  },
  {
   "cell_type": "code",
   "execution_count": null,
   "metadata": {},
   "outputs": [],
   "source": [
    "summary_df = scmkl.get_summary(results)\n",
    "summary_df"
   ]
  },
  {
   "cell_type": "code",
   "execution_count": null,
   "metadata": {},
   "outputs": [],
   "source": [
    "metric_plot = scmkl.plot_metric(summary_df, color = 'purple', alpha_star = alpha_star)\n",
    "metric_plot.show()"
   ]
  },
  {
   "cell_type": "code",
   "execution_count": null,
   "metadata": {},
   "outputs": [],
   "source": [
    "from matplotlib.pyplot import get_cmap\n",
    "\n",
    "scmkl.plot_conf_mat(results, title = '', cmap = get_cmap('Purples'))"
   ]
  }
 ],
 "metadata": {
  "kernelspec": {
   "display_name": "scMKL tutorial env",
   "language": "python",
   "name": "scmkl"
  },
  "language_info": {
   "codemirror_mode": {
    "name": "ipython",
    "version": 3
   },
   "file_extension": ".py",
   "mimetype": "text/x-python",
   "name": "python",
   "nbconvert_exporter": "python",
   "pygments_lexer": "ipython3",
   "version": "3.12.11"
  }
 },
 "nbformat": 4,
 "nbformat_minor": 4
}
