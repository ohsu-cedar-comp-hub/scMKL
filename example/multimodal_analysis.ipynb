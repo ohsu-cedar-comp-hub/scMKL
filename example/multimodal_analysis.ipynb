{
 "cells": [
  {
   "cell_type": "markdown",
   "metadata": {},
   "source": [
    "## Using scMKL with single-cell mRNA and ATAC Data Simultaneously\n",
    "Here we will run scMKL on a subset of the MCF-7 data (1,000 cells x 36,601 genes for RNA and 1,000 cells x 206,167 regions for ATAC) using Hallmark groupings."
   ]
  },
  {
   "cell_type": "markdown",
   "metadata": {},
   "source": [
    "### Importing Modules\n",
    "Data is read-in and saved using numpy and pickle modules."
   ]
  },
  {
   "cell_type": "code",
   "execution_count": 1,
   "metadata": {},
   "outputs": [],
   "source": [
    "import scmkl\n",
    "\n",
    "# Packages needed to import data\n",
    "import numpy as np\n",
    "from scipy.sparse import load_npz\n",
    "\n",
    "# Modules for viewing results\n",
    "import pandas as pd\n",
    "from plotnine import *"
   ]
  },
  {
   "cell_type": "markdown",
   "metadata": {},
   "source": [
    "### Reading in Data\n",
    "There are 4 required pieces of data (per modality) required for scMKL\n",
    "- The data matrix itself with cells as rows and features as columns.\n",
    "    - Can be either a Numpy Array or Scipy Sparse array (scipy.sparse.csc_array is the recommended format).  \n",
    "- The sample labels in a Numpy Array.  To perform group lasso, these labels must be binary and should be the same for each modality.\n",
    "- Feature names in a Numpy Array. These are the names of the features corresponding with the data matrix\n",
    "- A dictionary with grouping data.  The keys are the names of the groups, and the values are the corresponding features.\n",
    "    - Example: {Group1: [feature1, feature2, feature3], Group2: [feature4, feature5, feature6], ...}\n",
    "    - GSEApy can also be used to access many other gene sets\n",
    "        - See `getting_RNA_groupings.ipynb` and `getting_ATAC_groupings.ipynb` for more information on pulling gene/peak sets"
   ]
  },
  {
   "cell_type": "code",
   "execution_count": 2,
   "metadata": {},
   "outputs": [],
   "source": [
    "# Reading in RNA data\n",
    "RNA_group_dict = np.load('./data/RNA_hallmark_groupings.pkl', allow_pickle = True)\n",
    "RNA_X = load_npz('./data/MCF7_RNA_X.npz')\n",
    "RNA_feature_names = np.load('./data/MCF7_RNA_feature_names.npy', allow_pickle = True)\n",
    "\n",
    "# Reading in ATAC data\n",
    "ATAC_group_dict = np.load('./data/MCF7_ATAC_hallmark_groupings.pkl', allow_pickle = True)\n",
    "ATAC_X = load_npz('./data/MCF7_ATAC_X.npz')\n",
    "ATAC_feature_names = np.load('./data/MCF7_ATAC_feature_names.npy', allow_pickle = True)\n",
    "\n",
    "# Reading in cell labels\n",
    "cell_labels = np.load('./data/MCF7_cell_labels.npy', allow_pickle = True)\n",
    "\n",
    "# This value for D, the number of fourier features in Z, was found to be optimal in previous literature. Generally increasing D increases accuracy, but runs slower.\n",
    "D = int(np.sqrt(len(cell_labels)) * np.log(np.log(len(cell_labels))))"
   ]
  },
  {
   "cell_type": "markdown",
   "metadata": {},
   "source": [
    "### Creating an AnnData Object\n",
    "scMKL takes advantage of AnnData's flexible structure to create a straight-forward approach to running scMKL.\n",
    "`create_adata` requires: \n",
    "- `X` : A data matrix of cells by features can be a numpy array, scipy sparse array or pandas dataframe (sparse array recommended for large datasets)\n",
    "- `feature_names` : A numpy array of feature names corresponding with the features in `X`\n",
    "- `cell_labels` : A numpy array of cell phenotypes corresponding with the cells in X (must be binary)\n",
    "- `group_dict` : Dictionary containing feature grouping information\n",
    "    - Example: `{geneset: np.array(gene_1, gene_2, ..., gene_n)}`\n",
    "- `data_type` : `'counts'` or `'binary'`.  Determines what preprocessing is applied to the data\n",
    "    - Log transforms and standard scales counts data\n",
    "    - TFIDF filters binary data\n",
    "- `split_data` : Either numpy array of precalculated train/test split for the cells or `None`\n",
    "    - If `None`, the train test split will be calculated with balanced classes\n",
    "- `D` : Number of Random Fourier Features used to calculate Z. Should be a positive integer\n",
    "    - Higher values of D will increase classification accuracy at the cost of computation time\n",
    "- `remove_features` : Bool whether to filter the features from the dataset\n",
    "    - Will remove features from X, feature_names not in group_dict and remove features from groupings not in feature_names\n",
    "- `random_state` : Integer random_state used to set the seed for reproducibilty"
   ]
  },
  {
   "cell_type": "code",
   "execution_count": 3,
   "metadata": {},
   "outputs": [],
   "source": [
    "# Creating RNA adata\n",
    "RNA_adata = scmkl.create_adata(X = RNA_X, feature_names = RNA_feature_names, cell_labels = cell_labels, group_dict = RNA_group_dict,\n",
    "                         data_type = 'counts', D = D, remove_features = True, random_state = 100)\n",
    "\n",
    "# Creating ATAC adata\n",
    "ATAC_adata = scmkl.create_adata(X = ATAC_X, feature_names = ATAC_feature_names, cell_labels = cell_labels, group_dict = ATAC_group_dict,\n",
    "                         data_type = 'binary', D = D, remove_features = True, random_state = 100)"
   ]
  },
  {
   "cell_type": "markdown",
   "metadata": {},
   "source": [
    "### Estimating Kernel Widths, Calculating Z, and Combining Modalities\n",
    "To estimate kernel widths, calculate **Z** matrices, and combine the AnnData objects for each modality, we use the `multimodal_processing()` function with parameters:\n",
    "- assayX : Name of assay data contained in adataX\n",
    "- adataX : adata object created as above.\n",
    "- tfidf : list of boolean values whether to tfidf the respective matrices\n",
    "- z_calculation : Boolean value whether to calculate sigma and Z on the adata before combining\n",
    "                Allows for individual kernel functions for each\n",
    "\n"
   ]
  },
  {
   "cell_type": "code",
   "execution_count": 4,
   "metadata": {},
   "outputs": [
    {
     "name": "stdout",
     "output_type": "stream",
     "text": [
      "Estimating Sigma\n",
      "Calculating Z\n"
     ]
    }
   ],
   "source": [
    "combined_adata = scmkl.multimodal_processing(assay1 = 'RNA', assay2 = 'ATAC', adata1 = RNA_adata, adata2 = ATAC_adata, tfidf = [False, False], z_calculation = True)"
   ]
  },
  {
   "cell_type": "markdown",
   "metadata": {},
   "source": [
    "### Optimizing Sparsity\n",
    "Sparsity (lambda) or alpha here, is the regularization coefficient that controls the pentalty to run with the model.\n",
    "\n",
    "This will ultimately decide how many groups will be used in the final model.\n",
    "\n",
    "We can calculate the best performing sparsity  argument from the training data using cross-validation with `multimodal_optimize_alpha()`, which requires:\n",
    "- `adataX` : Anndata objects with Z_train and Z_test calculated (uses unimodal AnnData objects for cross validation)\n",
    "- `group_size` : Argument describing how the features are grouped\n",
    "    - From Celer documentation:\n",
    "        - \"groupsint | list of ints | list of lists of ints\n",
    "            - Partition of features used in the penalty on w\n",
    "                - If an int is passed, groups are contiguous blocks of features, of size groups\n",
    "                - If a list of ints is passed, groups are assumed to be contiguous, group number g being of size groups[g]\n",
    "                - If a list of lists of ints is passed, groups[g] contains the feature indices of the group number g\"\n",
    "        - If 1, model will behave identically to Lasso Regression\n",
    "- `tifidf_list` : a boolean mask where `tfidf_list[0]` and `tfidf_list[1]` are respective to `adata1` and `adata2`\n",
    "    - If `True` for one or both of the elements, tfidf normalization will be applied to the respective adata during cross validation\n",
    "- `alpha_array` : Numpy array of all alpha values to be tested\n",
    "- `k` : number of folds to perform cross validation over\n",
    "\n",
    "Returns a single sparsity value as the optimal sparsity aregument for training the model\n",
    "\n",
    "**NOTE: This step take a while to run and may want to be skipped if running the model with multiple sparsity areguments.**"
   ]
  },
  {
   "cell_type": "code",
   "execution_count": 5,
   "metadata": {},
   "outputs": [
    {
     "name": "stdout",
     "output_type": "stream",
     "text": [
      "Fold 1:\n",
      " Memory Usage: [0.0, 0.0] GB\n",
      "Estimating Sigma\n",
      "Calculating Z\n",
      "Fold 2:\n",
      " Memory Usage: [0.0, 0.0] GB\n",
      "Estimating Sigma\n",
      "Calculating Z\n",
      "Fold 3:\n",
      " Memory Usage: [0.0, 0.0] GB\n",
      "Estimating Sigma\n",
      "Calculating Z\n",
      "Fold 4:\n",
      " Memory Usage: [0.0, 0.0] GB\n",
      "Estimating Sigma\n",
      "Calculating Z\n"
     ]
    }
   ],
   "source": [
    "# Setting a list of alpha values to train the model with\n",
    "alpha_list = np.round(np.linspace(2.2,0.05,10), 2)\n",
    "\n",
    "# Calculating the best performing alpha from cross validation on training data\n",
    "alpha_star = scmkl.multimodal_optimize_alpha(adata1 = RNA_adata, adata2 = ATAC_adata, group_size = 2 * D, tfidf_list = [False, False], alpha_array = alpha_list, k = 4)"
   ]
  },
  {
   "cell_type": "markdown",
   "metadata": {},
   "source": [
    "### Training and Evalutating Model\n",
    "Here we will train and evaluate 10 models, each with a different `alpha`.\n",
    "\n",
    "`alpha` (or lambda) is a regularization coefficient that deterimines how many groupings will be used to classify the test cells in the final model. Here, we will evalutate the model using a range of alphas (`alpha_list`) to get a range of selected groups."
   ]
  },
  {
   "cell_type": "code",
   "execution_count": 6,
   "metadata": {},
   "outputs": [
    {
     "name": "stdout",
     "output_type": "stream",
     "text": [
      "  Evaluating model. Alpha: 2.2\n",
      "  Evaluating model. Alpha: 1.96\n",
      "  Evaluating model. Alpha: 1.72\n",
      "  Evaluating model. Alpha: 1.48\n",
      "  Evaluating model. Alpha: 1.24\n",
      "  Evaluating model. Alpha: 1.01\n",
      "  Evaluating model. Alpha: 0.77\n",
      "  Evaluating model. Alpha: 0.53\n",
      "  Evaluating model. Alpha: 0.29\n",
      "  Evaluating model. Alpha: 0.05\n"
     ]
    }
   ],
   "source": [
    "# Creating variables to capture model performance and results\n",
    "metric_dict = {}\n",
    "selected_pathways = {}\n",
    "group_norms = {}\n",
    "group_names = list(combined_adata.uns['group_dict'].keys())\n",
    "predicted = {}\n",
    "auroc_array = np.zeros(alpha_list.shape)\n",
    "\n",
    "# Iterating through alpha list, training/testing models, and capturing results\n",
    "for i, alpha in enumerate(alpha_list):\n",
    "    \n",
    "    print(f'  Evaluating model. Alpha: {alpha}', flush = True)\n",
    "\n",
    "    combined_adata = scmkl.train_model(combined_adata, group_size= 2*D, alpha = alpha)\n",
    "    predicted[alpha], metric_dict[alpha] = scmkl.predict(combined_adata, metrics = ['AUROC','F1-Score', 'Accuracy', 'Precision', 'Recall'])\n",
    "    selected_pathways[alpha] = scmkl.find_selected_groups(combined_adata)\n",
    "    group_norms[alpha] = [np.linalg.norm(combined_adata.uns['model'].coef_[i * 2 * D: (i + 1) * 2 * D - 1]) for i in np.arange(len(group_names))]\n",
    "\n",
    "results = {'Metrics' : metric_dict,\n",
    "           'Selected_pathways' : selected_pathways,\n",
    "           'Norms' : group_norms,\n",
    "           'Predictions' : predicted,\n",
    "           'Group_names' : group_names}"
   ]
  },
  {
   "cell_type": "markdown",
   "metadata": {},
   "source": [
    "### Model Performance and Top Groups per Alpha"
   ]
  },
  {
   "cell_type": "code",
   "execution_count": 7,
   "metadata": {},
   "outputs": [
    {
     "name": "stdout",
     "output_type": "stream",
     "text": [
      "   Alpha   AUROC  Number of Selected Groups  \\\n",
      "0   2.20  0.8600                          3   \n",
      "1   1.96  0.9123                          4   \n",
      "2   1.72  0.9357                          5   \n",
      "3   1.48  0.9524                          7   \n",
      "4   1.24  0.9666                          9   \n",
      "5   1.01  0.9779                          9   \n",
      "6   0.77  0.9833                         10   \n",
      "7   0.53  0.9870                         17   \n",
      "8   0.29  0.9901                         36   \n",
      "9   0.05  0.9899                         62   \n",
      "\n",
      "                              Top Group  \n",
      "0              RNA-HALLMARK_E2F_TARGETS  \n",
      "1  RNA-HALLMARK_ESTROGEN_RESPONSE_EARLY  \n",
      "2  RNA-HALLMARK_ESTROGEN_RESPONSE_EARLY  \n",
      "3  RNA-HALLMARK_ESTROGEN_RESPONSE_EARLY  \n",
      "4  RNA-HALLMARK_ESTROGEN_RESPONSE_EARLY  \n",
      "5  RNA-HALLMARK_ESTROGEN_RESPONSE_EARLY  \n",
      "6  RNA-HALLMARK_ESTROGEN_RESPONSE_EARLY  \n",
      "7  RNA-HALLMARK_ESTROGEN_RESPONSE_EARLY  \n",
      "8  RNA-HALLMARK_ESTROGEN_RESPONSE_EARLY  \n",
      "9           RNA-HALLMARK_UV_RESPONSE_DN  \n"
     ]
    },
    {
     "data": {
      "image/png": "[encoded data removed]"
     },
     "metadata": {
      "image/png": {
       "height": 480,
       "width": 640
      }
     },
     "output_type": "display_data"
    }
   ],
   "source": [
    "summary = {'Alpha' : [],\n",
    "           'AUROC' : [],\n",
    "           'Number of Selected Groups' : [],\n",
    "           'Top Group' : []}\n",
    "\n",
    "# Creating summary DataFrame for each model\n",
    "for alpha in alpha_list:\n",
    "    summary['Alpha'].append(alpha)\n",
    "    summary['AUROC'].append(results['Metrics'][alpha]['AUROC'])\n",
    "    summary['Number of Selected Groups'].append(len(results['Selected_pathways'][alpha]))\n",
    "    summary['Top Group'].append(*np.array(results['Group_names'])[np.where(results['Norms'][alpha] == max(results['Norms'][alpha]))])\n",
    "summary = pd.DataFrame(summary)\n",
    "alpha_star_auroc = float(summary[summary['Alpha'] == alpha_star]['AUROC'])\n",
    "\n",
    "print(summary)\n",
    "\n",
    "# Plotting AUROC from each alpha run\n",
    "(ggplot(summary, aes(x = 'Alpha', y = 'AUROC')) \n",
    " + geom_point(fill = 'purple', color = 'purple') \n",
    " + theme_classic() \n",
    " + ylim(0.6, 1)\n",
    " + scale_x_reverse(breaks = alpha_list)\n",
    " + annotate('text', x = alpha_star, y = alpha_star_auroc - 0.04, label='|\\nAlpha\\nStar')\n",
    " ).show()"
   ]
  }
 ],
 "metadata": {
  "kernelspec": {
   "display_name": "scMKL",
   "language": "python",
   "name": "python3"
  },
  "language_info": {
   "codemirror_mode": {
    "name": "ipython",
    "version": 3
   },
   "file_extension": ".py",
   "mimetype": "text/x-python",
   "name": "python",
   "nbconvert_exporter": "python",
   "pygments_lexer": "ipython3",
   "version": "3.11.9"
  }
 },
 "nbformat": 4,
 "nbformat_minor": 2
}
