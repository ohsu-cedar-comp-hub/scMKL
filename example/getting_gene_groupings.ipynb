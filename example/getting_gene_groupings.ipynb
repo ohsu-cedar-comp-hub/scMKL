{
 "cells": [
  {
   "cell_type": "markdown",
   "metadata": {},
   "source": [
    "## Creating RNA feature groupings to be used with scMKL\n",
    "There are three ways to read-in a grouping dictionary as a dictionary where grouping_dictionary['Group1_name'] = [gene_1, gene_2, ... gene_n] (dict[str] : [set | np.ndarray | list | tuple | pd.Series])\n",
    "1) Reading in a gene set library that is saved as a gmt file\n",
    "2) Using GSEApy to download one of their many gene sets across several organisms\n",
    "3) Using scMKL's built-in gene set parsing functions\n",
    "\n",
    "**NOTE: Although we are using gene symbols here, we recommend using gene IDs for both your grouping dictionary and scRNA feature array rather than gene symbols as they are more ambiguous.** "
   ]
  },
  {
   "cell_type": "code",
   "execution_count": 1,
   "metadata": {},
   "outputs": [
    {
     "name": "stderr",
     "output_type": "stream",
     "text": [
      "/home/vangordi/miniconda3/envs/new_scmkl/lib/python3.12/site-packages/tqdm/auto.py:21: TqdmWarning: IProgress not found. Please update jupyter and ipywidgets. See https://ipywidgets.readthedocs.io/en/stable/user_install.html\n",
      "  from .autonotebook import tqdm as notebook_tqdm\n"
     ]
    }
   ],
   "source": [
    "import scmkl\n",
    "import gseapy\n",
    "\n",
    "# For data manipulation and saving\n",
    "import numpy as np\n",
    "import pickle"
   ]
  },
  {
   "cell_type": "markdown",
   "metadata": {},
   "source": [
    "### 1) Reading in a gene set library that is saved as a gmt file\n",
    "A gmt file is a tab separated file where each line belongs to a gene set as:\n",
    "\n",
    "gene_set_name_1   description  gene_1  gene_2  ....    gene_n\n",
    "\n",
    "GMT files can be downloaded from https://www.gsea-msigdb.org/gsea/msigdb/."
   ]
  },
  {
   "cell_type": "code",
   "execution_count": 2,
   "metadata": {},
   "outputs": [
    {
     "name": "stdout",
     "output_type": "stream",
     "text": [
      "dict_keys(['HALLMARK_ADIPOGENESIS', 'HALLMARK_ALLOGRAFT_REJECTION', 'HALLMARK_ANDROGEN_RESPONSE', 'HALLMARK_ANGIOGENESIS', 'HALLMARK_APICAL_JUNCTION', 'HALLMARK_APICAL_SURFACE', 'HALLMARK_APOPTOSIS', 'HALLMARK_BILE_ACID_METABOLISM', 'HALLMARK_CHOLESTEROL_HOMEOSTASIS', 'HALLMARK_COAGULATION', 'HALLMARK_COMPLEMENT', 'HALLMARK_DNA_REPAIR', 'HALLMARK_E2F_TARGETS', 'HALLMARK_EPITHELIAL_MESENCHYMAL_TRANSITION', 'HALLMARK_ESTROGEN_RESPONSE_EARLY', 'HALLMARK_ESTROGEN_RESPONSE_LATE', 'HALLMARK_FATTY_ACID_METABOLISM', 'HALLMARK_G2M_CHECKPOINT', 'HALLMARK_GLYCOLYSIS', 'HALLMARK_HEDGEHOG_SIGNALING', 'HALLMARK_HEME_METABOLISM', 'HALLMARK_HYPOXIA', 'HALLMARK_IL2_STAT5_SIGNALING', 'HALLMARK_IL6_JAK_STAT3_SIGNALING', 'HALLMARK_INFLAMMATORY_RESPONSE', 'HALLMARK_INTERFERON_ALPHA_RESPONSE', 'HALLMARK_INTERFERON_GAMMA_RESPONSE', 'HALLMARK_KRAS_SIGNALING_DN', 'HALLMARK_KRAS_SIGNALING_UP', 'HALLMARK_MITOTIC_SPINDLE', 'HALLMARK_MTORC1_SIGNALING', 'HALLMARK_MYC_TARGETS_V1', 'HALLMARK_MYC_TARGETS_V2', 'HALLMARK_MYOGENESIS', 'HALLMARK_NOTCH_SIGNALING', 'HALLMARK_OXIDATIVE_PHOSPHORYLATION', 'HALLMARK_P53_PATHWAY', 'HALLMARK_PANCREAS_BETA_CELLS', 'HALLMARK_PEROXISOME', 'HALLMARK_PI3K_AKT_MTOR_SIGNALING', 'HALLMARK_PROTEIN_SECRETION', 'HALLMARK_REACTIVE_OXYGEN_SPECIES_PATHWAY', 'HALLMARK_SPERMATOGENESIS', 'HALLMARK_TGF_BETA_SIGNALING', 'HALLMARK_TNFA_SIGNALING_VIA_NFKB', 'HALLMARK_UNFOLDED_PROTEIN_RESPONSE', 'HALLMARK_UV_RESPONSE_DN', 'HALLMARK_UV_RESPONSE_UP', 'HALLMARK_WNT_BETA_CATENIN_SIGNALING', 'HALLMARK_XENOBIOTIC_METABOLISM'])\n"
     ]
    }
   ],
   "source": [
    "with open(\"data/_hallmark_library.gmt\", \"r\") as gmt_file:\n",
    "    # Skipping the description column\n",
    "    gmt_grouping = {line.split(\"\\t\")[0] : line.strip(\"\\n\").split(\"\\t\")[2:] \n",
    "                    for line in gmt_file}\n",
    "\n",
    "print(gmt_grouping.keys())"
   ]
  },
  {
   "cell_type": "markdown",
   "metadata": {},
   "source": [
    "### 2) Using GSEApy to download one of their many gene sets across several organisms\n",
    "GSEApy includes gene set libraries for 'Human', 'Mouse', 'Yeast', 'Worm', 'Fly', and 'Fish'"
   ]
  },
  {
   "cell_type": "code",
   "execution_count": 3,
   "metadata": {},
   "outputs": [
    {
     "name": "stdout",
     "output_type": "stream",
     "text": [
      "There are 218 gene set libraries for Human\n",
      "There are 218 gene set libraries for Mouse\n",
      "There are 21 gene set libraries for Yeast\n",
      "There are 37 gene set libraries for Worm\n",
      "There are 38 gene set libraries for Fly\n",
      "There are 30 gene set libraries for Fish\n",
      "dict_keys(['TNF-alpha Signaling via NF-kB', 'Hypoxia', 'Cholesterol Homeostasis', 'Mitotic Spindle', 'Wnt-beta Catenin Signaling', 'TGF-beta Signaling', 'IL-6/JAK/STAT3 Signaling', 'DNA Repair', 'G2-M Checkpoint', 'Apoptosis', 'Notch Signaling', 'Adipogenesis', 'Estrogen Response Early', 'Estrogen Response Late', 'Androgen Response', 'Myogenesis', 'Protein Secretion', 'Interferon Alpha Response', 'Interferon Gamma Response', 'Apical Junction', 'Apical Surface', 'Hedgehog Signaling', 'Complement', 'Unfolded Protein Response', 'PI3K/AKT/mTOR  Signaling', 'mTORC1 Signaling', 'E2F Targets', 'Myc Targets V1', 'Myc Targets V2', 'Epithelial Mesenchymal Transition', 'Inflammatory Response', 'Xenobiotic Metabolism', 'Fatty Acid Metabolism', 'Oxidative Phosphorylation', 'Glycolysis', 'Reactive Oxygen Species Pathway', 'p53 Pathway', 'UV Response Up', 'UV Response Dn', 'Angiogenesis', 'heme Metabolism', 'Coagulation', 'IL-2/STAT5 Signaling', 'Bile Acid Metabolism', 'Pperoxisome', 'Allograft Rejection', 'Spermatogenesis', 'KRAS Signaling Up', 'KRAS Signaling Dn', 'Pancreas Beta Cells'])\n"
     ]
    }
   ],
   "source": [
    "# Showing the number of gene set libraries for each organsim\n",
    "for organism in ['Human', 'Mouse', 'Yeast', 'Worm', 'Fly', 'Fish']:\n",
    "    print(f'There are {len(gseapy.get_library_name(organism = organism))} gene set libraries for {organism}')\n",
    "\n",
    "# After choosing one of the library names from gseapy.get_library_name() for your organism, we can pull the library\n",
    "# Here we will pull the MSigDB_Hallmark_2020 library for Human\n",
    "gseapy_grouping = gseapy.get_library(name = 'MSigDB_Hallmark_2020', organism = 'Human')\n",
    "print(gseapy_grouping.keys())"
   ]
  },
  {
   "cell_type": "markdown",
   "metadata": {},
   "source": [
    "## Using scMKL's built-in gene set parsing functions\n",
    "\n",
    "If we are interested in B cells and T cells, we can use `scmkl.find_candidates()` to find possible groupings."
   ]
  },
  {
   "cell_type": "code",
   "execution_count": 4,
   "metadata": {},
   "outputs": [
    {
     "data": {
      "text/html": [
       "<div>\n",
       "<style scoped>\n",
       "    .dataframe tbody tr th:only-of-type {\n",
       "        vertical-align: middle;\n",
       "    }\n",
       "\n",
       "    .dataframe tbody tr th {\n",
       "        vertical-align: top;\n",
       "    }\n",
       "\n",
       "    .dataframe thead th {\n",
       "        text-align: right;\n",
       "    }\n",
       "</style>\n",
       "<table border=\"1\" class=\"dataframe\">\n",
       "  <thead>\n",
       "    <tr style=\"text-align: right;\">\n",
       "      <th></th>\n",
       "      <th>Library</th>\n",
       "      <th>No. Gene Sets</th>\n",
       "      <th>No. Key Terms Matching</th>\n",
       "    </tr>\n",
       "  </thead>\n",
       "  <tbody>\n",
       "    <tr>\n",
       "      <th>0</th>\n",
       "      <td>Azimuth_2023</td>\n",
       "      <td>1241</td>\n",
       "      <td>39</td>\n",
       "    </tr>\n",
       "    <tr>\n",
       "      <th>1</th>\n",
       "      <td>Azimuth_Cell_Types_2021</td>\n",
       "      <td>341</td>\n",
       "      <td>55</td>\n",
       "    </tr>\n",
       "    <tr>\n",
       "      <th>2</th>\n",
       "      <td>Cancer_Cell_Line_Encyclopedia</td>\n",
       "      <td>967</td>\n",
       "      <td>0</td>\n",
       "    </tr>\n",
       "    <tr>\n",
       "      <th>3</th>\n",
       "      <td>CellMarker_2024</td>\n",
       "      <td>1134</td>\n",
       "      <td>161</td>\n",
       "    </tr>\n",
       "    <tr>\n",
       "      <th>4</th>\n",
       "      <td>CellMarker_Augmented_2021</td>\n",
       "      <td>1096</td>\n",
       "      <td>115</td>\n",
       "    </tr>\n",
       "    <tr>\n",
       "      <th>5</th>\n",
       "      <td>GO_Biological_Process_2025</td>\n",
       "      <td>5341</td>\n",
       "      <td>100</td>\n",
       "    </tr>\n",
       "    <tr>\n",
       "      <th>6</th>\n",
       "      <td>GO_Cellular_Component_2025</td>\n",
       "      <td>466</td>\n",
       "      <td>2</td>\n",
       "    </tr>\n",
       "    <tr>\n",
       "      <th>7</th>\n",
       "      <td>GO_Molecular_Function_2025</td>\n",
       "      <td>1174</td>\n",
       "      <td>1</td>\n",
       "    </tr>\n",
       "    <tr>\n",
       "      <th>8</th>\n",
       "      <td>KEGG_2021_Human</td>\n",
       "      <td>320</td>\n",
       "      <td>1</td>\n",
       "    </tr>\n",
       "    <tr>\n",
       "      <th>9</th>\n",
       "      <td>MSigDB_Hallmark_2020</td>\n",
       "      <td>50</td>\n",
       "      <td>0</td>\n",
       "    </tr>\n",
       "    <tr>\n",
       "      <th>10</th>\n",
       "      <td>NCI-60_Cancer_Cell_Lines</td>\n",
       "      <td>92</td>\n",
       "      <td>0</td>\n",
       "    </tr>\n",
       "    <tr>\n",
       "      <th>11</th>\n",
       "      <td>WikiPathways_2024_Human</td>\n",
       "      <td>829</td>\n",
       "      <td>10</td>\n",
       "    </tr>\n",
       "  </tbody>\n",
       "</table>\n",
       "</div>"
      ],
      "text/plain": [
       "                          Library  No. Gene Sets  No. Key Terms Matching\n",
       "0                    Azimuth_2023           1241                      39\n",
       "1         Azimuth_Cell_Types_2021            341                      55\n",
       "2   Cancer_Cell_Line_Encyclopedia            967                       0\n",
       "3                 CellMarker_2024           1134                     161\n",
       "4       CellMarker_Augmented_2021           1096                     115\n",
       "5      GO_Biological_Process_2025           5341                     100\n",
       "6      GO_Cellular_Component_2025            466                       2\n",
       "7      GO_Molecular_Function_2025           1174                       1\n",
       "8                 KEGG_2021_Human            320                       1\n",
       "9            MSigDB_Hallmark_2020             50                       0\n",
       "10       NCI-60_Cancer_Cell_Lines             92                       0\n",
       "11        WikiPathways_2024_Human            829                      10"
      ]
     },
     "execution_count": 4,
     "metadata": {},
     "output_type": "execute_result"
    }
   ],
   "source": [
    "scmkl.find_candidates('human', key_terms=[' b ', ' t '])\n"
   ]
  },
  {
   "cell_type": "markdown",
   "metadata": {},
   "source": [
    "Given `'CellMarker_2024'` has the largest number of hits for our terms of interest, we can now pull that geneset while simultaneously filtering out groupings that do not contain at least 2 genes from our data set features or do not contain our terms of interest."
   ]
  },
  {
   "cell_type": "code",
   "execution_count": 5,
   "metadata": {},
   "outputs": [
    {
     "name": "stdout",
     "output_type": "stream",
     "text": [
      "Not filtering with `blacklist` parameter.\n",
      "161 gene groupings.\n"
     ]
    },
    {
     "data": {
      "text/plain": [
       "dict_keys(['Activated CD4+ T Cell Blood Human', 'Activated CD4+ T Cell Peripheral Blood Human', 'Activated CD8+ T Cell Peripheral Blood Human', 'Activated T Cell Skin Human', 'Activated T Cell Undefined Human', 'Activated Memory B Cell Blood Human', 'Activated Tissue Resident Memory CD8+ T Cell Airway Human', 'CD1C+ B Dendritic Cell Blood Human', 'CD4 T Cell Lung Human', 'CD4+ T Cell Blood Human', 'CD4+ T Cell Brain Human', 'CD4+ T Cell Kidney Human', 'CD4+ T Cell Liver Human', 'CD4+ T Cell Lung Human', 'CD4+ T Cell Lymphoid Tissue Human', 'CD4+ T Cell Peripheral Blood Human', 'CD4+ T Cell Skin Human', 'CD4+ T Cell Spleen Human', 'CD4+ T Cell Stomach Human', 'CD4+ T Cell Undefined Human', 'CD4+ Central Memory Like T (Tcm-like) Cell Peripheral Blood Human', 'CD4+ Recently Activated Effector Memory Or Effector T Cell (CTL) Blood Human', 'CD4-CD28+ T Cell Peripheral Blood Human', 'CD4-CD28- T Cell Peripheral Blood Human', 'CD40LG+ T Helper Cell Bile Duct Human', 'CD8 T Cell Lung Human', 'CD8 T Cell Stomach Human', 'CD8+ T Cell Bile Duct Human', 'CD8+ T Cell Blood Human', 'CD8+ T Cell Bone Marrow Human', 'CD8+ T Cell Brain Human', 'CD8+ T Cell Breast Human', 'CD8+ T Cell Epithelium Human', 'CD8+ T Cell Kidney Human', 'CD8+ T Cell Lung Human', 'CD8+ T Cell Lymph Human', 'CD8+ T Cell Lymphoid Tissue Human', 'CD8+ T Cell Nasal Polyp Human', 'CD8+ T Cell Peripheral Blood Human', 'CD8+ T Cell Skin Human', 'CD8+ T Cell Spleen Human', 'CD8+ T Cell Stomach Human', 'CD8+ T Cell Undefined Human', 'CD8+ Mucosal-Associated Invariant T cell(CD8+ MAIT) Blood Human', 'CD8+ Recently Activated Effector Memory Or Effector T Cell (CTL) Blood Human', 'Central Memory CD4+ T Cell Blood Human', 'Central Memory CD4+ T Cell Liver Human', 'Central Memory CD4+ T Cell Spleen Human', 'Central Memory CD8+ T Cell Blood Human', 'Central Memory CD8+ T Cell Liver Human', 'Central Memory CD8+ T Cell Spleen Human', 'Central Memory T Cell Blood Human', 'Central Memory T Cell Peripheral Blood Human', 'Central Memory T Cell Stomach Human', 'Central Memory T Cell Undefined Human', 'Cytotoxic CD4+ T Cell Liver Human', 'Cytotoxic CD8+ T Cell Blood Human', 'Cytotoxic CD8+ T Cell Undefined Human', 'Cytotoxic T Cell Brain Human', 'Cytotoxic T Cell Breast Human', 'Cytotoxic T Cell Colorectum Human', 'Cytotoxic T Cell Peripheral Blood Human', 'Cytotoxic T Cell Skin Human', 'Cytotoxic T Cell Undefined Human', 'Cytotoxic Double-Positive T Cell Liver Human', 'Dividing T Cell Spleen Human', 'Dysfunctional T Cell Lung Human', 'Effector CD4+ T Cell Blood Human', 'Effector CD4+ T Cell Peripheral Blood Human', 'Effector CD8 T Cell Blood Human', 'Effector CD8+ T Cell Blood Human', 'Effector CD8+ T Cell Peripheral Blood Human', 'Effector CD8+ Memory T (Tem) Cell Peripheral Blood Human', 'Effector T Cell Undefined Human', 'Effector Memory CD4+ T Cell Airway Human', 'Effector Memory CD4+ T Cell Brain Human', 'Effector Memory CD8+ T Cell Blood Human', 'Effector Memory CD8+ T Cell Liver Human', 'Effector Memory T Cell Blood Human', 'Effector Memory T Cell Brain Human', 'Effector Memory T Cell Intestine Human', 'Effector Memory T Cell Liver Human', 'Effector Memory T Cell Peripheral Blood Human', 'Effector Memory T Cell Spleen Human', 'Effector Memory T Cell Stomach Human', 'Effector Memory T Cell Undefined Human', 'Exhausted CD4+ T Cell Liver Human', 'Exhausted CD4+ T Cell Peripheral Blood Human', 'Exhausted CD8+ T Cell Breast Human', 'Exhausted CD8+ T Cell Liver Human', 'Exhausted CD8+ T Cell Peripheral Blood Human', 'Exhausted CD8+ T Cell Undefined Human', 'Finally Highly Effector (TEMRA) Memory T Cell Blood Human', 'Follicular B Cell Lung Human', 'Follicular B Cell Spleen Human', 'Follicular B Cell Undefined Human', 'Follicular Helper (Tfh) T Cell Undefined Human', 'Foxp3+ Regulatory T Cell Bile Duct Human', 'GZMB+ T Cell Bile Duct Human', 'GZMK+ T Cell Bile Duct Human', 'Gamma Delta T Cell Peripheral Blood Human', 'Germinal Center B Cell Lung Human', 'Germinal Center B Cell Nasopharynx Human', 'Germinal Center B Cell Undefined Human', 'IL7R T Helper Cell Bile Duct Human', 'Immature B Cell Peripheral Blood Human', 'MKI67+ T Cell Bile Duct Human', 'Marginal Zone B Cell Spleen Human', 'Marginal Zone B Cell Undefined Human', 'Memory B Cell Precursor Undefined Human', 'Memory B Cell Blood Human', 'Memory B Cell Peripheral Blood Human', 'Memory B Cell Undefined Human', 'Memory CD4+ T Cell Blood Human', 'Memory CD4+ T Cell Peripheral Blood Human', 'Memory CD8+ T Cell Blood Human', 'Memory CD8+ T Cell Peripheral Blood Human', 'Memory CD8+ T Cell Undefined Human', 'Memory T Cell Blood Human', 'Memory T Cell Peripheral Blood Human', 'Memory T Cell Skin Human', 'Mucosa-associated Invariant T (MAIT) Cell Peripheral Blood Human', 'Mucosa-associated Invariant T (MAIT) Cell Undefined Human', 'Mucosal-associated Invariant T Cell Liver Human', 'Naive B Cell Blood Human', 'Naive B Cell Liver Human', 'Naive B Cell Peripheral Blood Human', 'Naive B Cell Spleen Human', 'Naive B Cell Undefined Human', 'Naive CD4 T Cell Blood Human', 'Naive CD4 T Cell Liver Human', 'Naive CD4 T Cell Spleen Human', 'Naive CD4+ T Cell Bile Duct Human', 'Naive CD4+ T Cell Blood Human', 'Naive CD4+ T Cell Peripheral Blood Human', 'Naive CD4+ T Cell Undefined Human', 'Naive CD8 T Cell Spleen Human', 'Naive CD8+ T Cell Bile Duct Human', 'Naive CD8+ T Cell Blood Human', 'Naive CD8+ T Cell Bone Marrow Human', 'Naive CD8+ T Cell Liver Human', 'Naive CD8+ T Cell Peripheral Blood Human', 'Naive CD8+ T Cell Undefined Human', 'Naive IL7R+ T Cell Bile Duct Human', 'Naive T Cell Peripheral Blood Human', 'Natural Killer T (NKT) Cell Kidney Human', 'Natural Killer T (NKT) Cell Peripheral Blood Human', 'Natural Regulatory T Cell Blood Human', 'Quiescent T Stem Cell Skin Human', 'Regulatory CD4+ T Cell Undefined Human', 'Regulatory T (Treg) Cell Kidney Human', 'Regulatory T (Treg) Cell Liver Human', 'Regulatory T (Treg) Cell Peripheral Blood Human', 'Regulatory T (Treg) Cell Skin Human', 'Regulatory T (Treg) Cell Spleen Human', 'Regulatory T (Treg) Cell Stomach Human', 'Regulatory T (Treg) Cell Undefined Human', 'Suppressive Regulatory T Cell Liver Human', 'TolDC-induced Regulatory T Cell Peripheral Blood Human', 'Tumor-infiltrating Regulatory T Cell Lung Human', 'hMSC-treated B Cell Bone Marrow Human'])"
      ]
     },
     "execution_count": 5,
     "metadata": {},
     "output_type": "execute_result"
    }
   ],
   "source": [
    "features = np.load('data/_MCF7_RNA_feature_names.npy', allow_pickle=True)\n",
    "\n",
    "group_dict = scmkl.get_gene_groupings('CellMarker_2024', 'human', \n",
    "                                    key_terms=[' b ', ' t '], \n",
    "                                    min_overlap=2, \n",
    "                                    genes=features)\n",
    "\n",
    "print(f'{len(group_dict.keys())} gene groupings.')\n",
    "group_dict.keys()"
   ]
  },
  {
   "cell_type": "markdown",
   "metadata": {},
   "source": [
    "If we want the same gene grouping but without 'blood' or 'stomach' groupings, we use the `blacklist` parameter. **NOTE: Grouping names should be manually reviewed to avoid using nonsensical groupings for the classification task.**"
   ]
  },
  {
   "cell_type": "code",
   "execution_count": 6,
   "metadata": {},
   "outputs": [
    {
     "name": "stdout",
     "output_type": "stream",
     "text": [
      "99 gene groupings.\n"
     ]
    },
    {
     "data": {
      "text/plain": [
       "dict_keys(['Activated T Cell Skin Human', 'Activated T Cell Undefined Human', 'Activated Tissue Resident Memory CD8+ T Cell Airway Human', 'CD4 T Cell Lung Human', 'CD4+ T Cell Brain Human', 'CD4+ T Cell Kidney Human', 'CD4+ T Cell Liver Human', 'CD4+ T Cell Lung Human', 'CD4+ T Cell Lymphoid Tissue Human', 'CD4+ T Cell Skin Human', 'CD4+ T Cell Spleen Human', 'CD4+ T Cell Undefined Human', 'CD40LG+ T Helper Cell Bile Duct Human', 'CD8 T Cell Lung Human', 'CD8+ T Cell Bile Duct Human', 'CD8+ T Cell Bone Marrow Human', 'CD8+ T Cell Brain Human', 'CD8+ T Cell Breast Human', 'CD8+ T Cell Epithelium Human', 'CD8+ T Cell Kidney Human', 'CD8+ T Cell Lung Human', 'CD8+ T Cell Lymph Human', 'CD8+ T Cell Lymphoid Tissue Human', 'CD8+ T Cell Nasal Polyp Human', 'CD8+ T Cell Skin Human', 'CD8+ T Cell Spleen Human', 'CD8+ T Cell Undefined Human', 'Central Memory CD4+ T Cell Liver Human', 'Central Memory CD4+ T Cell Spleen Human', 'Central Memory CD8+ T Cell Liver Human', 'Central Memory CD8+ T Cell Spleen Human', 'Central Memory T Cell Undefined Human', 'Cytotoxic CD4+ T Cell Liver Human', 'Cytotoxic CD8+ T Cell Undefined Human', 'Cytotoxic T Cell Brain Human', 'Cytotoxic T Cell Breast Human', 'Cytotoxic T Cell Colorectum Human', 'Cytotoxic T Cell Skin Human', 'Cytotoxic T Cell Undefined Human', 'Cytotoxic Double-Positive T Cell Liver Human', 'Dividing T Cell Spleen Human', 'Dysfunctional T Cell Lung Human', 'Effector T Cell Undefined Human', 'Effector Memory CD4+ T Cell Airway Human', 'Effector Memory CD4+ T Cell Brain Human', 'Effector Memory CD8+ T Cell Liver Human', 'Effector Memory T Cell Brain Human', 'Effector Memory T Cell Intestine Human', 'Effector Memory T Cell Liver Human', 'Effector Memory T Cell Spleen Human', 'Effector Memory T Cell Undefined Human', 'Exhausted CD4+ T Cell Liver Human', 'Exhausted CD8+ T Cell Breast Human', 'Exhausted CD8+ T Cell Liver Human', 'Exhausted CD8+ T Cell Undefined Human', 'Follicular B Cell Lung Human', 'Follicular B Cell Spleen Human', 'Follicular B Cell Undefined Human', 'Follicular Helper (Tfh) T Cell Undefined Human', 'Foxp3+ Regulatory T Cell Bile Duct Human', 'GZMB+ T Cell Bile Duct Human', 'GZMK+ T Cell Bile Duct Human', 'Germinal Center B Cell Lung Human', 'Germinal Center B Cell Nasopharynx Human', 'Germinal Center B Cell Undefined Human', 'IL7R T Helper Cell Bile Duct Human', 'MKI67+ T Cell Bile Duct Human', 'Marginal Zone B Cell Spleen Human', 'Marginal Zone B Cell Undefined Human', 'Memory B Cell Precursor Undefined Human', 'Memory B Cell Undefined Human', 'Memory CD8+ T Cell Undefined Human', 'Memory T Cell Skin Human', 'Mucosa-associated Invariant T (MAIT) Cell Undefined Human', 'Mucosal-associated Invariant T Cell Liver Human', 'Naive B Cell Liver Human', 'Naive B Cell Spleen Human', 'Naive B Cell Undefined Human', 'Naive CD4 T Cell Liver Human', 'Naive CD4 T Cell Spleen Human', 'Naive CD4+ T Cell Bile Duct Human', 'Naive CD4+ T Cell Undefined Human', 'Naive CD8 T Cell Spleen Human', 'Naive CD8+ T Cell Bile Duct Human', 'Naive CD8+ T Cell Bone Marrow Human', 'Naive CD8+ T Cell Liver Human', 'Naive CD8+ T Cell Undefined Human', 'Naive IL7R+ T Cell Bile Duct Human', 'Natural Killer T (NKT) Cell Kidney Human', 'Quiescent T Stem Cell Skin Human', 'Regulatory CD4+ T Cell Undefined Human', 'Regulatory T (Treg) Cell Kidney Human', 'Regulatory T (Treg) Cell Liver Human', 'Regulatory T (Treg) Cell Skin Human', 'Regulatory T (Treg) Cell Spleen Human', 'Regulatory T (Treg) Cell Undefined Human', 'Suppressive Regulatory T Cell Liver Human', 'Tumor-infiltrating Regulatory T Cell Lung Human', 'hMSC-treated B Cell Bone Marrow Human'])"
      ]
     },
     "execution_count": 6,
     "metadata": {},
     "output_type": "execute_result"
    }
   ],
   "source": [
    "group_dict = scmkl.get_gene_groupings('CellMarker_2024', 'human', \n",
    "                                    key_terms=[' b ', ' t '], \n",
    "                                    blacklist=['blood', 'stomach'],\n",
    "                                    min_overlap=2, \n",
    "                                    genes=features)\n",
    "\n",
    "print(f'{len(group_dict.keys())} gene groupings.')\n",
    "group_dict.keys()"
   ]
  },
  {
   "cell_type": "markdown",
   "metadata": {},
   "source": [
    "### Saving a Library for scMKL Grouping\n",
    "If you plan doing multiple train/test splits or running with different sparsities (alpha), it is recommened that the grouping dictionaries are saved as a pickle.\n",
    "As pickle files are byte-streams, they are very fast to read-in with `group_dict = np.load('group_dict.pkl', allow_pickle=True)`."
   ]
  },
  {
   "cell_type": "code",
   "execution_count": 7,
   "metadata": {},
   "outputs": [],
   "source": [
    "# Saving a dictionary as a pickle file\n",
    "\n",
    "# with open('your_filename.pkl', 'wb') as output:\n",
    "#     pickle.dump(group_dict, output)"
   ]
  }
 ],
 "metadata": {
  "kernelspec": {
   "display_name": "scMKL",
   "language": "python",
   "name": "python3"
  },
  "language_info": {
   "codemirror_mode": {
    "name": "ipython",
    "version": 3
   },
   "file_extension": ".py",
   "mimetype": "text/x-python",
   "name": "python",
   "nbconvert_exporter": "python",
   "pygments_lexer": "ipython3",
   "version": "3.12.11"
  }
 },
 "nbformat": 4,
 "nbformat_minor": 2
}
