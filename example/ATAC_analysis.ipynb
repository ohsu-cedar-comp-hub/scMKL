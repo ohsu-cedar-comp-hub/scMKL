{
 "cells": [
  {
   "cell_type": "markdown",
   "metadata": {},
   "source": [
    "## Using scMKL with single-cell ATAC data\n",
    "To run tutorials, install `plotnine` and `jupyter` into your scMKL env with `pip install plotnine jupyter`.\n",
    "Here we will run scMKL on a subset of the MCF-7 data (1,000 cells x 206,167 peaks) using Hallmark groupings."
   ]
  },
  {
   "cell_type": "markdown",
   "metadata": {},
   "source": [
    "### Importing Modules\n",
    "Data is read-in and saved using Numpy and SciPy modules."
   ]
  },
  {
   "cell_type": "code",
   "execution_count": 1,
   "metadata": {},
   "outputs": [],
   "source": [
    "import scmkl\n",
    "\n",
    "# Packages needed to import data\n",
    "import numpy as np\n",
    "from scipy.sparse import load_npz\n",
    "\n",
    "# Modules for viewing results\n",
    "import pandas as pd\n",
    "from plotnine import *"
   ]
  },
  {
   "cell_type": "markdown",
   "metadata": {},
   "source": [
    "### Reading in Data\n",
    "There are four pieces of data (per modality) required for scMKL:\n",
    "- The data matrix itself with cells as rows and features as columns.\n",
    "    - Can be either a Numpy array or SciPy sparse array (scipy.sparse.csc_array is the recommended format).  \n",
    "- The sample labels in a Numpy array. To perform group lasso, these labels must be binary.\n",
    "- Feature names in a Numpy array. These are the names of the features corresponding with the data matrix columns.\n",
    "- A dictionary with grouping data.  The keys are the names of the groups, and the values are the corresponding features.\n",
    "    - Example: {Group1: [feature1, feature2, feature3], Group2: [feature4, feature5, feature6], ...}.\n",
    "    - See `getting_ATAC_groupings.ipynb` for more information on creating peak sets."
   ]
  },
  {
   "cell_type": "code",
   "execution_count": 2,
   "metadata": {},
   "outputs": [],
   "source": [
    "# Reading in grouping dictionary from pickle file\n",
    "group_dict = np.load('./data/ATAC_hallmark_groupings.pkl', allow_pickle = True)\n",
    "\n",
    "# Reading in data to be analyzed\n",
    "X = load_npz('./data/MCF7_ATAC_X.npz')\n",
    "cell_labels = np.load('./data/MCF7_cell_labels.npy', allow_pickle = True)\n",
    "feature_names = np.load('./data/MCF7_ATAC_feature_names.npy', allow_pickle = True)\n",
    "\n",
    "# D is the number of dimensions per group\n",
    "# Previous literature shows the calculation below yields optimal number of dimensions\n",
    "D = int(np.sqrt(len(cell_labels)) * np.log(np.log(len(cell_labels))))"
   ]
  },
  {
   "cell_type": "markdown",
   "metadata": {},
   "source": [
    "### Creating an AnnData Object\n",
    "scMKL takes advantage of AnnData's flexible structure to create a straight-forward approach to running scMKL. Using `scmkl.create_adata()` will create an AnnData object from input data that will include necessary variables for running scMKL. For more information, see scMKL's [documentation](https://ohsu-cedar-comp-hub.github.io/scMKL/). Given the ATAC data we are working with is binarized, the data will not be transformed or scaled."
   ]
  },
  {
   "cell_type": "code",
   "execution_count": 3,
   "metadata": {},
   "outputs": [
    {
     "name": "stdout",
     "output_type": "stream",
     "text": [
      "WARNING: Data will not be log transformed and scaled\n",
      "         Columns with zero summed columns will not be removed\n",
      "         To change this behavior, set scale_data to True\n"
     ]
    }
   ],
   "source": [
    "adata = scmkl.create_adata(X = X, \n",
    "                         feature_names = feature_names, \n",
    "                         cell_labels = cell_labels, \n",
    "                         group_dict = group_dict,\n",
    "                         scale_data = False, \n",
    "                         D = D\n",
    "                         )"
   ]
  },
  {
   "cell_type": "markdown",
   "metadata": {},
   "source": [
    "### Estimating Kernel Widths\n",
    "`sigma` refers to kernel widths and should be estimated with `estimate_sigma()`."
   ]
  },
  {
   "cell_type": "code",
   "execution_count": 4,
   "metadata": {},
   "outputs": [],
   "source": [
    "adata = scmkl.estimate_sigma(adata, n_features = 200)"
   ]
  },
  {
   "cell_type": "markdown",
   "metadata": {},
   "source": [
    "### Calculating Z\n",
    "The Z matrices are a the Fourier transform of the grouped data matrix. This is calculated on training and testing samples separately. \n",
    "\n",
    "Returns Z matrices for training and testing in adata object with `adata.uns['Z_train']` and `adata.uns['Z_test']`."
   ]
  },
  {
   "cell_type": "code",
   "execution_count": 5,
   "metadata": {},
   "outputs": [],
   "source": [
    "adata = scmkl.calculate_z(adata, n_features = 5000)"
   ]
  },
  {
   "cell_type": "markdown",
   "metadata": {},
   "source": [
    "### Optimizing Sparsity\n",
    "Sparsity (lambda) or alpha here, is the regularization coefficient that controls the pentalty to run with the model. \n",
    "\n",
    "This will ultimately decide how many groups will be used in the final model.\n",
    "\n",
    "`scmkl.optimize_alpha()` returns a single sparsity value as the optimal sparsity argument for training the model."
   ]
  },
  {
   "cell_type": "code",
   "execution_count": 6,
   "metadata": {},
   "outputs": [],
   "source": [
    "# Setting a list of alpha values to train the model with\n",
    "alpha_list = np.round(np.linspace(2.2,0.05,10), 2)\n",
    "\n",
    "# Calculating the best performing alpha from cross validation on training data\n",
    "alpha_star = scmkl.optimize_alpha(adata = adata, group_size = 2 * D, tfidf = False, alpha_array = alpha_list, k = 4)"
   ]
  },
  {
   "cell_type": "markdown",
   "metadata": {},
   "source": [
    "### Training and Evalutating Model\n",
    "Here we will train and evaluate 10 models, each with a different `alpha`.\n",
    "\n",
    "`alpha` (or lambda) is a regularization coefficient that deterimines how many groupings will be used to classify the test cells in the final model. Here, we will evalutate the model using a range of alphas (`alpha_list`) to get a range of selected groups."
   ]
  },
  {
   "cell_type": "code",
   "execution_count": 7,
   "metadata": {},
   "outputs": [
    {
     "name": "stdout",
     "output_type": "stream",
     "text": [
      "  Evaluating model. Alpha: 2.2\n",
      "  Evaluating model. Alpha: 1.96\n",
      "  Evaluating model. Alpha: 1.72\n",
      "  Evaluating model. Alpha: 1.48\n",
      "  Evaluating model. Alpha: 1.24\n",
      "  Evaluating model. Alpha: 1.01\n",
      "  Evaluating model. Alpha: 0.77\n",
      "  Evaluating model. Alpha: 0.53\n",
      "  Evaluating model. Alpha: 0.29\n",
      "  Evaluating model. Alpha: 0.05\n"
     ]
    },
    {
     "data": {
      "text/plain": [
       "dict_keys(['Metrics', 'Selected_groups', 'Norms', 'Predictions', 'Observed', 'Test_indices', 'Group_names', 'Models', 'Train_time', 'RAM_usage'])"
      ]
     },
     "execution_count": 7,
     "metadata": {},
     "output_type": "execute_result"
    }
   ],
   "source": [
    "results = scmkl.run(adata = adata, alpha_list = alpha_list)\n",
    "results.keys()"
   ]
  },
  {
   "cell_type": "markdown",
   "metadata": {},
   "source": [
    "### Model Performance and Top Groups per Alpha"
   ]
  },
  {
   "cell_type": "code",
   "execution_count": 8,
   "metadata": {},
   "outputs": [
    {
     "name": "stdout",
     "output_type": "stream",
     "text": [
      "   Alpha   AUROC  Number of Selected Groups  \\\n",
      "0   2.20  0.6298                          4   \n",
      "1   1.96  0.6758                          7   \n",
      "2   1.72  0.7190                          8   \n",
      "3   1.48  0.7446                         13   \n",
      "4   1.24  0.7707                         19   \n",
      "5   1.01  0.7848                         21   \n",
      "6   0.77  0.7994                         24   \n",
      "7   0.53  0.8210                         38   \n",
      "8   0.29  0.8449                         45   \n",
      "9   0.05  0.8159                         48   \n",
      "\n",
      "                             Top Group  \n",
      "0  HALLMARK_WNT_BETA_CATENIN_SIGNALING  \n",
      "1          HALLMARK_TGF_BETA_SIGNALING  \n",
      "2          HALLMARK_TGF_BETA_SIGNALING  \n",
      "3          HALLMARK_TGF_BETA_SIGNALING  \n",
      "4          HALLMARK_TGF_BETA_SIGNALING  \n",
      "5          HALLMARK_TGF_BETA_SIGNALING  \n",
      "6          HALLMARK_TGF_BETA_SIGNALING  \n",
      "7          HALLMARK_TGF_BETA_SIGNALING  \n",
      "8   HALLMARK_UNFOLDED_PROTEIN_RESPONSE  \n",
      "9                 HALLMARK_COAGULATION  \n"
     ]
    },
    {
     "data": {
      "image/png": "[encoded data removed]"
     },
     "metadata": {
      "image/png": {
       "height": 480,
       "width": 640
      }
     },
     "output_type": "display_data"
    }
   ],
   "source": [
    "summary = {'Alpha' : [],\n",
    "           'AUROC' : [],\n",
    "           'Number of Selected Groups' : [],\n",
    "           'Top Group' : []}\n",
    "\n",
    "# Creating summary DataFrame for each model\n",
    "for alpha in alpha_list:\n",
    "    summary['Alpha'].append(alpha)\n",
    "    summary['AUROC'].append(results['Metrics'][alpha]['AUROC'])\n",
    "    summary['Number of Selected Groups'].append(len(results['Selected_groups'][alpha]))\n",
    "    summary['Top Group'].append(*np.array(results['Group_names'])[np.where(results['Norms'][alpha] == max(results['Norms'][alpha]))])\n",
    "summary = pd.DataFrame(summary)\n",
    "alpha_star_auroc = float(summary[summary['Alpha'] == alpha_star]['AUROC'])\n",
    "\n",
    "print(summary)\n",
    "\n",
    "# Plotting AUROC from each alpha run\n",
    "(ggplot(summary, aes(x = 'Alpha', y = 'AUROC')) \n",
    " + geom_point(fill = 'blue', color = 'blue') \n",
    " + theme_classic() \n",
    " + ylim(0.6, 1)\n",
    " + scale_x_reverse(breaks = alpha_list)\n",
    " + annotate('text', x = alpha_star, y = alpha_star_auroc + 0.04, label='Alpha\\nStar\\n|')\n",
    " ).show()"
   ]
  }
 ],
 "metadata": {
  "kernelspec": {
   "display_name": "scMKL",
   "language": "python",
   "name": "python3"
  },
  "language_info": {
   "codemirror_mode": {
    "name": "ipython",
    "version": 3
   },
   "file_extension": ".py",
   "mimetype": "text/x-python",
   "name": "python",
   "nbconvert_exporter": "python",
   "pygments_lexer": "ipython3",
   "version": "3.12.0"
  }
 },
 "nbformat": 4,
 "nbformat_minor": 2
}
