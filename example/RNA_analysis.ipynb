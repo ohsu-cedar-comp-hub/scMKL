{
 "cells": [
  {
   "cell_type": "markdown",
   "metadata": {},
   "source": [
    "## Using scMKL with single-cell mRNA Data\n",
    "Here we will run scMKL on a subset of the MCF-7 data (1,000 cells x 36,601 genes) using Hallmark groupings."
   ]
  },
  {
   "cell_type": "markdown",
   "metadata": {},
   "source": [
    "### Importing Modules\n",
    "Data is read-in and saved using numpy and pickle modules."
   ]
  },
  {
   "cell_type": "code",
   "execution_count": 9,
   "metadata": {},
   "outputs": [],
   "source": [
    "# Packages needed to import data\n",
    "import numpy as np\n",
    "import pickle\n",
    "import sys\n",
    "from scipy.sparse import load_npz\n",
    "\n",
    "# For using gene sets from Molecular Signiture Database\n",
    "import gseapy\n",
    "\n",
    "# This sys command allows us to import the scMKL_src_anndata module from any directory. '..' can be replaced by any path to the repository directory\n",
    "sys.path.insert(0, '..')\n",
    "import src.scMKL_src_anndata as src\n",
    "\n",
    "# Modules for viewing results\n",
    "import pandas as pd\n",
    "from plotnine import *"
   ]
  },
  {
   "cell_type": "markdown",
   "metadata": {},
   "source": [
    "### Reading in Data\n",
    "There are 4 required pieces of data (per modality) required for scMKL\n",
    "- The data matrix itself with cells as rows and features as columns.\n",
    "    - Can be either a Numpy Array or Scipy Sparse array (scipy.sparse.csc_array is the recommended format).  \n",
    "- The sample labels in a Numpy Array.  To perform group lasso, these labels must be binary.\n",
    "- Feature names in a Numpy Array. These are the names of the features corresponding with the data matrix\n",
    "- A dictionary with grouping data.  The keys are the names of the groups, and the values are the corresponding features.\n",
    "    - Example: {Group1: [feature1, feature2, feature3], Group2: [feature4, feature5, feature6], ...}\n",
    "    - GSEApy can also be used to access many other gene sets\n",
    "        - See `getting_RNA_groupings.ipynb` for more information on pulling gene sets"
   ]
  },
  {
   "cell_type": "code",
   "execution_count": 10,
   "metadata": {},
   "outputs": [],
   "source": [
    "# Reading in grouping dictionary using GSEApy\n",
    "group_dict = gseapy.get_library(name = 'MSigDB_Hallmark_2020', organism = 'Human')\n",
    "\n",
    "# Reading in grouping dictionary from pickle file\n",
    "group_dict = np.load('./data/RNA_hallmark_groupings.pkl', allow_pickle = True)\n",
    "\n",
    "# Reading in data to be analyzed\n",
    "X = load_npz('./data/MCF7_RNA_X.npz')\n",
    "cell_labels = np.load('./data/MCF7_cell_labels.npy', allow_pickle = True)\n",
    "feature_names = np.load('./data/MCF7_RNA_feature_names.npy', allow_pickle = True)\n",
    "\n",
    "# This value for D, the number of fourier features in Z, was found to be optimal in previous literature. Generally increasing D increases accuracy, but runs slower.\n",
    "D = int(np.sqrt(len(cell_labels)) * np.log(np.log(len(cell_labels))))"
   ]
  },
  {
   "cell_type": "markdown",
   "metadata": {},
   "source": [
    "### Creating an AnnData Object\n",
    "scMKL takes advantage of AnnData's flexible structure to create a straight-forward approach to running scMKL.\n",
    "`src.Create_Adata` requires: \n",
    "- `data_type` which can be `'counts'` or `'binary'`\n",
    "- `filter_features` which removes features from the `X` that are not present in the grouping\n",
    "- `replication` which sets the seed for training the model\n",
    "- `X` refering to the cell x feature matrix\n",
    "- `cell_labels` refering to the binary array of classes cooresponding to `X` rows\n",
    "- `feature_names` refering to the genes (feature names) cooresponding to `X` columns"
   ]
  },
  {
   "cell_type": "code",
   "execution_count": 11,
   "metadata": {},
   "outputs": [],
   "source": [
    "adata = src.Create_Adata(X = X, feature_names = feature_names, cell_labels = cell_labels, group_dict = group_dict,\n",
    "                         data_type = 'counts', D = D, filter_features = True, random_state = 100)"
   ]
  },
  {
   "cell_type": "markdown",
   "metadata": {},
   "source": [
    "### Tuning Model Parameters\n",
    "`sigma` refers to kernel widths and should be tuned when running scMKL with `src.Estimate_Sigma()` and `src.Optimize_Sigma`."
   ]
  },
  {
   "cell_type": "code",
   "execution_count": 12,
   "metadata": {},
   "outputs": [],
   "source": [
    "adata = src.Estimate_Sigma(adata, n_features = 200)"
   ]
  },
  {
   "cell_type": "markdown",
   "metadata": {},
   "source": [
    "### Training and Evalutating Model\n",
    "Here we will train and evaluate 10 models, each with a different `alpha`.\n",
    "\n",
    "`alpha` (or lambda) is a regularization coefficient that deterimines how many groupings will be used to classify the test cells in the final model. Here, we will evalutate the model using a range of alphas (`alpha_list`) to get a range of selected groups."
   ]
  },
  {
   "cell_type": "code",
   "execution_count": 13,
   "metadata": {},
   "outputs": [
    {
     "name": "stdout",
     "output_type": "stream",
     "text": [
      "  Evaluating model. Alpha: 2.2\n",
      "  Evaluating model. Alpha: 1.96\n",
      "  Evaluating model. Alpha: 1.72\n",
      "  Evaluating model. Alpha: 1.48\n",
      "  Evaluating model. Alpha: 1.24\n",
      "  Evaluating model. Alpha: 1.01\n",
      "  Evaluating model. Alpha: 0.77\n",
      "  Evaluating model. Alpha: 0.53\n",
      "  Evaluating model. Alpha: 0.29\n",
      "  Evaluating model. Alpha: 0.05\n"
     ]
    }
   ],
   "source": [
    "# Creating Z matrices\n",
    "adata = src.Calculate_Z(adata, n_features = 5000)\n",
    "\n",
    "# Setting list of regularization coefficients to generate models with\n",
    "alpha_list = np.round(np.linspace(2.2,0.05,10), 2)\n",
    "\n",
    "metric_dict = {}\n",
    "selected_pathways = {}\n",
    "group_norms = {}\n",
    "group_names = list(group_dict.keys())\n",
    "predicted = {}\n",
    "auroc_array = np.zeros(alpha_list.shape)\n",
    "\n",
    "# Iterating through alpha list, training/testing models, and capturing results\n",
    "for i, alpha in enumerate(alpha_list):\n",
    "    \n",
    "    print(f'  Evaluating model. Alpha: {alpha}', flush = True)\n",
    "\n",
    "    adata = src.Train_Model(adata, group_size= 2*D, alpha = alpha)\n",
    "    predicted[alpha], metric_dict[alpha] = src.Predict(adata, metrics = ['AUROC','F1-Score', 'Accuracy', 'Precision', 'Recall'])\n",
    "    selected_pathways[alpha] = src.Find_Selected_Pathways(adata)\n",
    "    group_norms[alpha] = [np.linalg.norm(adata.uns['model'].coef_[i * 2 * D: (i + 1) * 2 * D - 1]) for i in np.arange(len(group_names))]\n",
    "\n",
    "results = {'Metrics' : metric_dict,\n",
    "           'Selected_pathways' : selected_pathways,\n",
    "           'Norms' : group_norms,\n",
    "           'Predictions' : predicted,\n",
    "           'Group_names' : group_names}"
   ]
  },
  {
   "cell_type": "markdown",
   "metadata": {},
   "source": [
    "## Results\n",
    "\n",
    "### Model Performance"
   ]
  },
  {
   "cell_type": "code",
   "execution_count": 14,
   "metadata": {},
   "outputs": [
    {
     "name": "stdout",
     "output_type": "stream",
     "text": [
      "  Alpha   AUROC  Number of Selected Groups                Top Group\n",
      "0  2.20  0.8190                          2              E2F Targets\n",
      "1  1.96  0.8798                          3  Estrogen Response Early\n",
      "2  1.72  0.9311                          4  Estrogen Response Early\n",
      "3  1.48  0.9524                          5  Estrogen Response Early\n",
      "4  1.24  0.9607                          7  Estrogen Response Early\n",
      "5  1.01  0.9663                          9  Estrogen Response Early\n",
      "6  0.77  0.9727                         14  Estrogen Response Early\n",
      "7  0.53  0.9817                         25  Estrogen Response Early\n",
      "8  0.29  0.9874                         42  Estrogen Response Early\n",
      "9  0.05  0.9804                         50  Estrogen Response Early\n"
     ]
    },
    {
     "name": "stderr",
     "output_type": "stream",
     "text": [
      "/home/vangordi/miniconda3/envs/scMKL/lib/python3.11/site-packages/plotnine/layer.py:364: PlotnineWarning: geom_point : Removed 2 rows containing missing values.\n"
     ]
    },
    {
     "data": {
      "image/png": "[encoded data removed]"
     },
     "metadata": {
      "image/png": {
       "height": 480,
       "width": 640
      }
     },
     "output_type": "display_data"
    }
   ],
   "source": [
    "summary = {'Alpha' : [],\n",
    "           'AUROC' : [],\n",
    "           'Number of Selected Groups' : [],\n",
    "           'Top Group' : []}\n",
    "\n",
    "for alpha in alpha_list:\n",
    "    summary['Alpha'].append(alpha)\n",
    "    summary['AUROC'].append(results['Metrics'][alpha]['AUROC'])\n",
    "    summary['Number of Selected Groups'].append(len(results['Selected_pathways'][alpha]))\n",
    "    summary['Top Group'].append(*np.array(results['Group_names'])[np.where(results['Norms'][alpha] == max(results['Norms'][alpha]))])\n",
    "\n",
    "summary = pd.DataFrame(summary)\n",
    "summary['Alpha'] = pd.Categorical(summary['Alpha'], categories = summary['Alpha'])\n",
    "\n",
    "print(summary)\n",
    "(ggplot(summary, aes(x = 'Alpha', y = 'AUROC')) + geom_point(fill = 'red', color = 'red') + theme_classic() + ylim(0.9, 1)).show()"
   ]
  }
 ],
 "metadata": {
  "kernelspec": {
   "display_name": "scMKL",
   "language": "python",
   "name": "python3"
  },
  "language_info": {
   "codemirror_mode": {
    "name": "ipython",
    "version": 3
   },
   "file_extension": ".py",
   "mimetype": "text/x-python",
   "name": "python",
   "nbconvert_exporter": "python",
   "pygments_lexer": "ipython3",
   "version": "3.11.3"
  }
 },
 "nbformat": 4,
 "nbformat_minor": 2
}
