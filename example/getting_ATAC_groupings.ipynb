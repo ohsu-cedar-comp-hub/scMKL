{
 "cells": [
  {
   "cell_type": "markdown",
   "metadata": {},
   "source": [
    "## Creating a Peak Set Library from a Gene Set Library\n",
    "One way to analyze ATAC data with scMKL is to associate peaks with genes they overlap with.\n",
    "This tutorial assumes that a gene set library (saved as a pickled dictionary) and a GTF file for the organism in question is saved.\n",
    "\n",
    "In this example, we will create an ATAC grouping for MCF-7 using a subset hg38 gtf file. "
   ]
  },
  {
   "cell_type": "code",
   "execution_count": 1,
   "metadata": {},
   "outputs": [],
   "source": [
    "# Importing numpy, pandas, and re for data manipulation\n",
    "import numpy as np\n",
    "import pandas as pd\n",
    "import re\n",
    "import scmkl\n",
    "\n",
    "\n",
    "# Reading in gene library as [gene_set] : list | set | np.ndarray of genes\n",
    "gene_sets = np.load(\"data/RNA_hallmark_groupings.pkl\", allow_pickle = True)\n",
    "\n",
    "# Reading in the feature names from scATAC assay\n",
    "assay_peaks = np.load(\"data/MCF7_ATAC_feature_names.npy\", allow_pickle = True)\n",
    "\n",
    "# Reading in GTF file for region comparison (here is subset_version) and naming columns\n",
    "gene_annotations = pd.read_csv(\"data/hg38_subset_protein_coding.annotation.gtf\", sep = \"\\t\", header = None, skip_blank_lines=True, comment = \"#\")\n",
    "gene_annotations.columns = ['chr', 'source', 'feature', 'start', 'end', 'score', 'strand', 'frame', 'attribute']"
   ]
  },
  {
   "cell_type": "markdown",
   "metadata": {},
   "source": [
    "### Formating GTF Data\n",
    "`get_atac_groupings()` takes gene annotations as a pd.DataFrame with columns `['chr', 'start', 'end', 'gene_name', 'strand]` where:\n",
    "- `'chr'` is the respecitve chromosome for the annotation\n",
    "- `'start'` is the respective start postition for the annotation\n",
    "- `'end'` is the respective end postition for the annotation\n",
    "- `'gene_name'` is the name of the respective gene name of the region for the annotation (can be parsed from the attribute column of a GTF file')\n",
    "- `'strand'` is the strand for the annotation, can be `'+'` or `'-'`"
   ]
  },
  {
   "cell_type": "code",
   "execution_count": 2,
   "metadata": {},
   "outputs": [
    {
     "data": {
      "text/html": [
       "<div>\n",
       "<style scoped>\n",
       "    .dataframe tbody tr th:only-of-type {\n",
       "        vertical-align: middle;\n",
       "    }\n",
       "\n",
       "    .dataframe tbody tr th {\n",
       "        vertical-align: top;\n",
       "    }\n",
       "\n",
       "    .dataframe thead th {\n",
       "        text-align: right;\n",
       "    }\n",
       "</style>\n",
       "<table border=\"1\" class=\"dataframe\">\n",
       "  <thead>\n",
       "    <tr style=\"text-align: right;\">\n",
       "      <th></th>\n",
       "      <th>chr</th>\n",
       "      <th>source</th>\n",
       "      <th>feature</th>\n",
       "      <th>start</th>\n",
       "      <th>end</th>\n",
       "      <th>score</th>\n",
       "      <th>strand</th>\n",
       "      <th>frame</th>\n",
       "      <th>attribute</th>\n",
       "      <th>gene_name</th>\n",
       "    </tr>\n",
       "  </thead>\n",
       "  <tbody>\n",
       "    <tr>\n",
       "      <th>0</th>\n",
       "      <td>chr1</td>\n",
       "      <td>HAVANA</td>\n",
       "      <td>gene</td>\n",
       "      <td>65419</td>\n",
       "      <td>71585</td>\n",
       "      <td>.</td>\n",
       "      <td>+</td>\n",
       "      <td>.</td>\n",
       "      <td>gene_id \"ENSG00000186092.6\"; gene_type \"protei...</td>\n",
       "      <td>OR4F5</td>\n",
       "    </tr>\n",
       "    <tr>\n",
       "      <th>19</th>\n",
       "      <td>chr1</td>\n",
       "      <td>HAVANA</td>\n",
       "      <td>gene</td>\n",
       "      <td>450703</td>\n",
       "      <td>451697</td>\n",
       "      <td>.</td>\n",
       "      <td>-</td>\n",
       "      <td>.</td>\n",
       "      <td>gene_id \"ENSG00000284733.1\"; gene_type \"protei...</td>\n",
       "      <td>OR4F29</td>\n",
       "    </tr>\n",
       "    <tr>\n",
       "      <th>27</th>\n",
       "      <td>chr1</td>\n",
       "      <td>HAVANA</td>\n",
       "      <td>gene</td>\n",
       "      <td>685679</td>\n",
       "      <td>686673</td>\n",
       "      <td>.</td>\n",
       "      <td>-</td>\n",
       "      <td>.</td>\n",
       "      <td>gene_id \"ENSG00000284662.1\"; gene_type \"protei...</td>\n",
       "      <td>OR4F16</td>\n",
       "    </tr>\n",
       "    <tr>\n",
       "      <th>35</th>\n",
       "      <td>chr1</td>\n",
       "      <td>HAVANA</td>\n",
       "      <td>gene</td>\n",
       "      <td>923928</td>\n",
       "      <td>944581</td>\n",
       "      <td>.</td>\n",
       "      <td>+</td>\n",
       "      <td>.</td>\n",
       "      <td>gene_id \"ENSG00000187634.12\"; gene_type \"prote...</td>\n",
       "      <td>SAMD11</td>\n",
       "    </tr>\n",
       "    <tr>\n",
       "      <th>392</th>\n",
       "      <td>chr1</td>\n",
       "      <td>HAVANA</td>\n",
       "      <td>gene</td>\n",
       "      <td>944203</td>\n",
       "      <td>959309</td>\n",
       "      <td>.</td>\n",
       "      <td>-</td>\n",
       "      <td>.</td>\n",
       "      <td>gene_id \"ENSG00000188976.11\"; gene_type \"prote...</td>\n",
       "      <td>NOC2L</td>\n",
       "    </tr>\n",
       "  </tbody>\n",
       "</table>\n",
       "</div>"
      ],
      "text/plain": [
       "      chr  source feature   start     end score strand frame  \\\n",
       "0    chr1  HAVANA    gene   65419   71585     .      +     .   \n",
       "19   chr1  HAVANA    gene  450703  451697     .      -     .   \n",
       "27   chr1  HAVANA    gene  685679  686673     .      -     .   \n",
       "35   chr1  HAVANA    gene  923928  944581     .      +     .   \n",
       "392  chr1  HAVANA    gene  944203  959309     .      -     .   \n",
       "\n",
       "                                             attribute gene_name  \n",
       "0    gene_id \"ENSG00000186092.6\"; gene_type \"protei...     OR4F5  \n",
       "19   gene_id \"ENSG00000284733.1\"; gene_type \"protei...    OR4F29  \n",
       "27   gene_id \"ENSG00000284662.1\"; gene_type \"protei...    OR4F16  \n",
       "35   gene_id \"ENSG00000187634.12\"; gene_type \"prote...    SAMD11  \n",
       "392  gene_id \"ENSG00000188976.11\"; gene_type \"prote...     NOC2L  "
      ]
     },
     "execution_count": 2,
     "metadata": {},
     "output_type": "execute_result"
    }
   ],
   "source": [
    "# Removing annotations from GTF data that are not protein_coding and filtering to only gene features\n",
    "gene_annotations = gene_annotations[gene_annotations['attribute'].str.contains('protein_coding')]\n",
    "gene_annotations = gene_annotations[gene_annotations['feature'] == 'gene']\n",
    "\n",
    "# Parsing attribute column for gene name and adding it to gene_annotations DataFrame\n",
    "# If using gene IDs in gene_sets, set gene_annotations['gene_name] to gene IDs instead\n",
    "gene_annotations['gene_name'] = [re.findall(r'(?<=gene_name \")[A-z0-9]+', attr)[0] for attr in gene_annotations['attribute']]\n",
    "\n",
    "gene_annotations.head()"
   ]
  },
  {
   "cell_type": "markdown",
   "metadata": {},
   "source": [
    "### Comparing Regions\n",
    "`get_atac_groupings()` to get ATAC groupings will search for overlap between the gene annotations and assay features. Then, using the genes in the annotations file and the genes in gene_library, assay peaks will be assigned to groupings in the new grouping dictionary. \n",
    "\n",
    "**NOTE**: This function will take a while to run on a full annotations file."
   ]
  },
  {
   "cell_type": "code",
   "execution_count": 3,
   "metadata": {},
   "outputs": [
    {
     "name": "stdout",
     "output_type": "stream",
     "text": [
      "dict_keys(['HALLMARK_TNFA_SIGNALING_VIA_NFKB', 'HALLMARK_HYPOXIA', 'HALLMARK_CHOLESTEROL_HOMEOSTASIS', 'HALLMARK_MITOTIC_SPINDLE', 'HALLMARK_WNT_BETA_CATENIN_SIGNALING', 'HALLMARK_TGF_BETA_SIGNALING', 'HALLMARK_IL6_JAK_STAT3_SIGNALING', 'HALLMARK_DNA_REPAIR', 'HALLMARK_G2M_CHECKPOINT', 'HALLMARK_APOPTOSIS', 'HALLMARK_NOTCH_SIGNALING', 'HALLMARK_ADIPOGENESIS', 'HALLMARK_ESTROGEN_RESPONSE_EARLY', 'HALLMARK_ESTROGEN_RESPONSE_LATE', 'HALLMARK_ANDROGEN_RESPONSE', 'HALLMARK_MYOGENESIS', 'HALLMARK_PROTEIN_SECRETION', 'HALLMARK_INTERFERON_ALPHA_RESPONSE', 'HALLMARK_INTERFERON_GAMMA_RESPONSE', 'HALLMARK_APICAL_JUNCTION', 'HALLMARK_APICAL_SURFACE', 'HALLMARK_HEDGEHOG_SIGNALING', 'HALLMARK_COMPLEMENT', 'HALLMARK_UNFOLDED_PROTEIN_RESPONSE', 'HALLMARK_PI3K_AKT_MTOR_SIGNALING', 'HALLMARK_MTORC1_SIGNALING', 'HALLMARK_E2F_TARGETS', 'HALLMARK_MYC_TARGETS_V1', 'HALLMARK_MYC_TARGETS_V2', 'HALLMARK_EPITHELIAL_MESENCHYMAL_TRANSITION', 'HALLMARK_INFLAMMATORY_RESPONSE', 'HALLMARK_XENOBIOTIC_METABOLISM', 'HALLMARK_FATTY_ACID_METABOLISM', 'HALLMARK_OXIDATIVE_PHOSPHORYLATION', 'HALLMARK_GLYCOLYSIS', 'HALLMARK_REACTIVE_OXYGEN_SPECIES_PATHWAY', 'HALLMARK_P53_PATHWAY', 'HALLMARK_UV_RESPONSE_UP', 'HALLMARK_UV_RESPONSE_DN', 'HALLMARK_ANGIOGENESIS', 'HALLMARK_HEME_METABOLISM', 'HALLMARK_COAGULATION', 'HALLMARK_IL2_STAT5_SIGNALING', 'HALLMARK_BILE_ACID_METABOLISM', 'HALLMARK_PEROXISOME', 'HALLMARK_ALLOGRAFT_REJECTION', 'HALLMARK_SPERMATOGENESIS', 'HALLMARK_KRAS_SIGNALING_UP', 'HALLMARK_KRAS_SIGNALING_DN', 'HALLMARK_PANCREAS_BETA_CELLS'])\n"
     ]
    }
   ],
   "source": [
    "atac_grouping = scmkl.get_atac_groupings(gene_sets = gene_sets,\n",
    "                                        feature_names = assay_peaks,\n",
    "                                        gene_anno = gene_annotations\n",
    "                                        )\n",
    "\n",
    "print(atac_grouping.keys())"
   ]
  }
 ],
 "metadata": {
  "kernelspec": {
   "display_name": "scMKL",
   "language": "python",
   "name": "python3"
  },
  "language_info": {
   "codemirror_mode": {
    "name": "ipython",
    "version": 3
   },
   "file_extension": ".py",
   "mimetype": "text/x-python",
   "name": "python",
   "nbconvert_exporter": "python",
   "pygments_lexer": "ipython3",
   "version": "3.11.10"
  }
 },
 "nbformat": 4,
 "nbformat_minor": 2
}
