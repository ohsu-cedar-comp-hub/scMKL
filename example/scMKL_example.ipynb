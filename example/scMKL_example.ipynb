{
 "cells": [
  {
   "cell_type": "markdown",
   "metadata": {},
   "source": [
    "### scMKL\n",
    "This is an introduction to single cell Multiple Kernel Learning. scMKL is a classification algorithm utilizing prior information to group features to enhance classification and aid understanding of distinguishing features in multi-omic data sets."
   ]
  },
  {
   "cell_type": "code",
   "execution_count": 50,
   "metadata": {},
   "outputs": [],
   "source": [
    "# Packages needed to import data\n",
    "import numpy as np\n",
    "import pickle\n",
    "import sys\n",
    "\n",
    "# This sys command allows us to import the scMKL_src module from any directory. '..' can be replaced by any path to the module\n",
    "sys.path.insert(0, '..')\n",
    "import src.scMKL_src as src\n",
    "\n",
    "seed = np.random.default_rng(1)"
   ]
  },
  {
   "cell_type": "markdown",
   "metadata": {},
   "source": [
    "#### Inputs for scMKL\n",
    "There are 4 required pieces of data (per modality) required for scMKL\n",
    "- The data matrix itself with cells as rows and features as columns.\n",
    "    - Can be either a Numpy Array or Scipy Sparse array (scipy.sparse.csc_array is the recommended format).  \n",
    "- The sample labels in a Numpy Array.  To perform group lasso, these labels must be binary.\n",
    "- Feature names in a Numpy Array. These are the names of the features corresponding with the data matrix\n",
    "- A dictionary with grouping data.  The keys are the names of the groups, and the values are the corresponding features.\n",
    "    - Example: {Group1: [feature1, feature2, feature3], Group2: [feature4, feature5, feature6], ...}"
   ]
  },
  {
   "cell_type": "code",
   "execution_count": 51,
   "metadata": {},
   "outputs": [],
   "source": [
    "X = np.load('./data/TCGA-ESCA.npy', allow_pickle = True)\n",
    "labels = np.load('./data/TCGA-ESCA_cell_metadata.npy', allow_pickle = True)\n",
    "features = np.load('./data/TCGA-ESCA_RNA_feature_names.npy', allow_pickle = True)\n",
    "\n",
    "\n",
    "with open('./data/RNA_hallmark_groupings.pkl', 'rb') as fin:\n",
    "    group_dict = pickle.load(fin)\n",
    "\n",
    "# This value for D, the number of fourier features in Z, was found to be optimal in previous literature.  Generally increasing D increases accuracy, but runs slower.\n",
    "D = int(np.sqrt(len(labels)) * np.log(np.log(len(labels))))\n",
    "\n",
    "# Removes features in X and features that are not found in group_dict.  Done to reduce memory usage and search time\n",
    "X, features = src.Filter_Features(X, features, group_dict)"
   ]
  },
  {
   "cell_type": "markdown",
   "metadata": {},
   "source": [
    "#### Parameter Optimization\n",
    "Kernel weights (sigma) are a parameter of the kernel approximation.  Here we estimate sigma on a random 2000 samples from the training set before optimizing it with k-Fold Cross Validation on the training set."
   ]
  },
  {
   "cell_type": "code",
   "execution_count": 52,
   "metadata": {},
   "outputs": [],
   "source": [
    "# The train/test sets are calculated to keep the proportion of each label the same in the training and testing sets.\n",
    "train_indices, test_indices = src.Train_Test_Split(labels, seed_obj= seed)\n",
    "\n",
    "X_train = X[train_indices,:]\n",
    "X_test = X[test_indices,:]\n",
    "y_train = labels[train_indices]\n",
    "y_test = labels[test_indices]\n",
    "\n",
    "sigmas = src.Estimate_Sigma(X, group_dict, 'rna', features, seed_obj= seed)\n",
    "\n",
    "sigmas = src.Optimize_Sigma(X = X_train, y = y_train, group_dict = group_dict, assay = 'rna', D = D, feature_set = features, \n",
    "                            sigma_list = sigmas, k = 2, sigma_adjustments = np.arange(0.1,2,0.1), seed_obj= seed)"
   ]
  },
  {
   "cell_type": "markdown",
   "metadata": {},
   "source": [
    "#### Calculating Z and Model Evaluation\n",
    "Below, we calculate approximate kernels for each group in the grouping information.\n",
    "\n",
    "Then we train the model to view the distinguishing feature groups between phenotypes and evaluate on a test set to quantify classification performance."
   ]
  },
  {
   "cell_type": "code",
   "execution_count": 53,
   "metadata": {},
   "outputs": [],
   "source": [
    "Z_train, Z_test = src.Calculate_Z(X_train, X_test, group_dict, 'rna', D, features, sigmas, seed_obj= seed)\n",
    "\n",
    "gl = src.Train_Model(Z_train, y_train, 2 * D)\n",
    "predictions, metrics = src.Predict(gl, Z_test, y_test, metrics = ['AUROC', 'F1-Score', 'Accuracy', 'Precision', 'Recall'])\n",
    "selected_groups = src.Find_Selected_Pathways(gl, group_names= group_dict.keys())"
   ]
  },
  {
   "cell_type": "code",
   "execution_count": 54,
   "metadata": {},
   "outputs": [
    {
     "name": "stdout",
     "output_type": "stream",
     "text": [
      "{'AUROC': 1.0, 'Accuracy': 1.0, 'F1-Score': 1.0, 'Precision': 1.0, 'Recall': 1.0}\n",
      "['HALLMARK_NOTCH_SIGNALING' 'HALLMARK_ESTROGEN_RESPONSE_EARLY'\n",
      " 'HALLMARK_GLYCOLYSIS' 'HALLMARK_UV_RESPONSE_DN']\n"
     ]
    }
   ],
   "source": [
    "print(metrics)\n",
    "print(selected_groups)"
   ]
  }
 ],
 "metadata": {
  "kernelspec": {
   "display_name": "scMKL_test",
   "language": "python",
   "name": "python3"
  },
  "language_info": {
   "codemirror_mode": {
    "name": "ipython",
    "version": 3
   },
   "file_extension": ".py",
   "mimetype": "text/x-python",
   "name": "python",
   "nbconvert_exporter": "python",
   "pygments_lexer": "ipython3",
   "version": "3.11.3"
  }
 },
 "nbformat": 4,
 "nbformat_minor": 2
}
