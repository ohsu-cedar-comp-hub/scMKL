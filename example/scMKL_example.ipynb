{
 "cells": [
  {
   "cell_type": "markdown",
   "metadata": {},
   "source": [
    "### scMKL\n",
    "This is an introduction to single cell Multiple Kernel Learning. scMKL is a classification algorithm utilizing prior information to group features to enhance classification and aid understanding of distinguishing features in multi-omic data sets."
   ]
  },
  {
   "cell_type": "code",
   "execution_count": 13,
   "metadata": {},
   "outputs": [],
   "source": [
    "# Packages needed to import data\n",
    "import numpy as np\n",
    "import pickle\n",
    "import sys\n",
    "\n",
    "# This sys command allows us to import the scMKL_src module from any directory. '..' can be replaced by any path to the module\n",
    "sys.path.insert(0, '..')\n",
    "import src.scMKL_src as src"
   ]
  },
  {
   "cell_type": "markdown",
   "metadata": {},
   "source": [
    "#### Inputs for scMKL\n",
    "There are 4 required pieces of data (per modality) required for scMKL\n",
    "- The data matrix itself with cells as rows and features as columns.\n",
    "    - Can be either a Numpy Array or Scipy Sparse array (scipy.sparse.csc_array is the recommended format).  \n",
    "- The sample labels in a Numpy Array.  To perform group lasso, these labels must be binary.\n",
    "- Feature names in a Numpy Array. These are the names of the features corresponding with the data matrix\n",
    "- A dictionary with grouping data.  The keys are the names of the groups, and the values are the corresponding features.\n",
    "    - Example: {Group1: [feature1, feature2, feature3], Group2: [feature4, feature5, feature6], ...}"
   ]
  },
  {
   "cell_type": "code",
   "execution_count": 14,
   "metadata": {},
   "outputs": [],
   "source": [
    "x = np.load('./data/TCGA-ESCA.npy', allow_pickle = True)\n",
    "labels = np.load('./data/TCGA-ESCA_cell_metadata.npy', allow_pickle = True)\n",
    "features = np.load('./data/TCGA-ESCA_RNA_feature_names.npy', allow_pickle = True)\n",
    "\n",
    "\n",
    "with open('./data/RNA_hallmark_groupings.pkl', 'rb') as fin:\n",
    "    group_dict = pickle.load(fin)\n",
    "\n",
    "# This value for D, the number of fourier features in Z, was found to be optimal in previous literature.  Generally increasing D increases accuracy, but runs slower.\n",
    "D = int(np.sqrt(len(labels)) * np.log(np.log(len(labels))))"
   ]
  },
  {
   "cell_type": "markdown",
   "metadata": {},
   "source": [
    "#### Parameter Optimization\n",
    "Kernel weights (sigma) are a parameter of the kernel approximation.  Here we calculate sigma on the full dataset before optimizing it with k-Fold Cross Validation on the training set."
   ]
  },
  {
   "cell_type": "code",
   "execution_count": 15,
   "metadata": {},
   "outputs": [],
   "source": [
    "sigmas = src.Calculate_Sigma(x, group_dict, 'rna', features)\n",
    "\n",
    "# The train/test sets are calculated to keep the proportion of each label the same in the training and testing sets.\n",
    "train_indices, test_indices = src.Train_Test_Split(labels, seed_obj= np.random.RandomState(500))\n",
    "\n",
    "x_train = x[train_indices,:]\n",
    "x_test = x[test_indices,:]\n",
    "y_train = labels[train_indices]\n",
    "y_test = labels[test_indices]\n",
    "\n",
    "\n",
    "sigmas = src.Optimize_Sigma(X = x_train, y = y_train, group_dict = group_dict, assay = 'rna', D = D, feature_set = features, sigma_list = sigmas)"
   ]
  },
  {
   "cell_type": "markdown",
   "metadata": {},
   "source": [
    "#### Calculating Z and Model Evaluation\n",
    "Below, we calculate approximate kernels for each group in the grouping information.\n",
    "\n",
    "Then we evaluate the model to find the Area Under the Receiver Operating Curve, and view the distinguishing features between groups."
   ]
  },
  {
   "cell_type": "code",
   "execution_count": 16,
   "metadata": {},
   "outputs": [],
   "source": [
    "Z_train, Z_test = src.Calculate_Z(x_train, x_test, group_dict, 'rna', D, features, sigmas)\n",
    "\n",
    "gl = src.Train_Model(Z_train, y_train, 2 * D)\n",
    "auc = src.Calculate_Auroc(gl, Z_test, y_test)\n",
    "selected_groups = src.Find_Selected_Pathways(gl, group_names= group_dict.keys())"
   ]
  },
  {
   "cell_type": "code",
   "execution_count": 17,
   "metadata": {},
   "outputs": [
    {
     "name": "stdout",
     "output_type": "stream",
     "text": [
      "0.9963235294117647\n",
      "['HALLMARK_ANDROGEN_RESPONSE' 'HALLMARK_UV_RESPONSE_DN'\n",
      " 'HALLMARK_KRAS_SIGNALING_UP' 'HALLMARK_PANCREAS_BETA_CELLS']\n"
     ]
    }
   ],
   "source": [
    "print(auc)\n",
    "print(selected_groups)"
   ]
  }
 ],
 "metadata": {
  "kernelspec": {
   "display_name": "scMKL_test",
   "language": "python",
   "name": "python3"
  },
  "language_info": {
   "codemirror_mode": {
    "name": "ipython",
    "version": 3
   },
   "file_extension": ".py",
   "mimetype": "text/x-python",
   "name": "python",
   "nbconvert_exporter": "python",
   "pygments_lexer": "ipython3",
   "version": "3.11.3"
  }
 },
 "nbformat": 4,
 "nbformat_minor": 2
}
